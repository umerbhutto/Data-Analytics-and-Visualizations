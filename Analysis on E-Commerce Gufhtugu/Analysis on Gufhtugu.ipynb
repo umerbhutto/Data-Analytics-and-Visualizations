{
 "cells": [
  {
   "cell_type": "markdown",
   "metadata": {},
   "source": [
    "# Pakistan Book Orders"
   ]
  },
  {
   "cell_type": "markdown",
   "metadata": {},
   "source": [
    "## Content"
   ]
  },
  {
   "cell_type": "markdown",
   "metadata": {},
   "source": [
    "1. Import Libraries and dataset\n",
    "2. Merge Datasets and Data cleansing\n",
    "3. Best Selling Book\n",
    "4. Visualizing Order Status Frequency\n",
    "5. Book Orders by City\n",
    "6. Issues with the Dataset"
   ]
  },
  {
   "cell_type": "markdown",
   "metadata": {},
   "source": [
    "## Background"
   ]
  },
  {
   "cell_type": "markdown",
   "metadata": {},
   "source": [
    "This is the one of its kinds book sales dataset from Pakistan. It contains 20,000 book orders from January 2019 to January 2021. The data was collected from the merchant (Gufhtugu Publications www.Gufhtugu.com) who are partner in this research study.\n",
    "There is a dire need for such dataset to learn about Pakistan’s emerging e-commerce potential and I hope this will help many startups in many ways.\n",
    "\n",
    "Content\n",
    "Geography: Pakistan\n",
    "\n",
    "Time period: 01/2019 – 01/2021\n",
    "\n",
    "Unit of analysis: E-Commerce Orders\n",
    "\n",
    "Dataset: The dataset contains detailed information of 200,000 online book orders in Pakistan from January 2019 to January 2021. It contains order number, order status (completed, cancelled, returned), order date and time, book name and city address. This is the most detailed dataset about e-commerce orders in Pakistan that you can find in the Public domain.\n",
    "\n",
    "Variables: The dataset contains order number, order status, book name, order date, order time and city of the customer.\n",
    "\n",
    "Source: https://www.kaggle.com/zusmani/gufhtugu-publications-dataset-challenge"
   ]
  },
  {
   "cell_type": "markdown",
   "metadata": {},
   "source": [
    "### 1. Import Libraries and Dataset"
   ]
  },
  {
   "cell_type": "code",
   "execution_count": 1,
   "metadata": {},
   "outputs": [],
   "source": [
    "import numpy as np\n",
    "import pandas as pd\n",
    "import matplotlib.pyplot as plt\n",
    "import seaborn as sns\n",
    "import re"
   ]
  },
  {
   "cell_type": "code",
   "execution_count": 2,
   "metadata": {},
   "outputs": [],
   "source": [
    "orders1 = pd.read_csv(\"GPOrders2.csv\", encoding = 'cp1252')\n",
    "orders2 = pd.read_csv(\"GPOrders4.csv\", encoding = 'utf-8')\n",
    "orders3 = pd.read_csv(\"GPOrders5.csv\", encoding = 'utf-8')"
   ]
  },
  {
   "cell_type": "markdown",
   "metadata": {},
   "source": [
    "Based on the preliminary analysis of the 3 different datasets, the last dataset (\"orders3\") has 3 additional columns:<br>\n",
    "- Payment Method\n",
    "- Total items\n",
    "- Total weight (grams)<br>\n",
    "\n",
    "For the purposes of our current analysis, we will remove these columns. The \"Orders3\" dataset will be analyzed separately."
   ]
  },
  {
   "cell_type": "markdown",
   "metadata": {},
   "source": [
    "### 2. Merge Datasets and Data Cleansing"
   ]
  },
  {
   "cell_type": "code",
   "execution_count": 3,
   "metadata": {},
   "outputs": [
    {
     "data": {
      "text/plain": [
       "True"
      ]
     },
     "execution_count": 3,
     "metadata": {},
     "output_type": "execute_result"
    }
   ],
   "source": [
    "# Rename 2 columns in orders3\n",
    "orders3.rename(columns = {\"Order Date & Time\":\"Order Date\",\n",
    "                         \"City\":\"City (Billing)\"}, inplace = True)\n",
    "# Remove 3 columns in orders3\n",
    "orders3.drop([\"Payment Method\", \"Total items\", \"Total weight (grams)\"], axis = 1,inplace = True)\n",
    "\n",
    "#Merge Datasets\n",
    "df = pd.concat([orders1,orders2,orders3], ignore_index=True)\n",
    "len(df) == len(orders1)+len(orders2)+len(orders3)"
   ]
  },
  {
   "cell_type": "code",
   "execution_count": 4,
   "metadata": {},
   "outputs": [
    {
     "name": "stderr",
     "output_type": "stream",
     "text": [
      "D:\\Spyder\\lib\\site-packages\\pandas\\core\\indexing.py:1637: SettingWithCopyWarning: \n",
      "A value is trying to be set on a copy of a slice from a DataFrame\n",
      "\n",
      "See the caveats in the documentation: https://pandas.pydata.org/pandas-docs/stable/user_guide/indexing.html#returning-a-view-versus-a-copy\n",
      "  self._setitem_single_block(indexer, value, name)\n"
     ]
    }
   ],
   "source": [
    "# Lower case names for books and cities for ease of use\n",
    "df['Book Name'] = df['Book Name'].str.lower()\n",
    "df['City (Billing)'] = df['City (Billing)'].str.lower()\n",
    "\n",
    "# Change 'Canceled' in Order Status to 'Cancelled'\n",
    "df['Order Status'].loc[(df['Order Status'] == 'Canceled')] = 'Cancelled'"
   ]
  },
  {
   "cell_type": "markdown",
   "metadata": {},
   "source": [
    "### 3. Best Selling Book"
   ]
  },
  {
   "cell_type": "code",
   "execution_count": 5,
   "metadata": {},
   "outputs": [
    {
     "data": {
      "text/html": [
       "<div>\n",
       "<style scoped>\n",
       "    .dataframe tbody tr th:only-of-type {\n",
       "        vertical-align: middle;\n",
       "    }\n",
       "\n",
       "    .dataframe tbody tr th {\n",
       "        vertical-align: top;\n",
       "    }\n",
       "\n",
       "    .dataframe thead th {\n",
       "        text-align: right;\n",
       "    }\n",
       "</style>\n",
       "<table border=\"1\" class=\"dataframe\">\n",
       "  <thead>\n",
       "    <tr style=\"text-align: right;\">\n",
       "      <th>Order Status</th>\n",
       "      <th>Cancelled</th>\n",
       "      <th>Completed</th>\n",
       "      <th>Returned</th>\n",
       "      <th>Total Sales</th>\n",
       "      <th>Returned(%)</th>\n",
       "      <th>Sales Retention(%)</th>\n",
       "    </tr>\n",
       "    <tr>\n",
       "      <th>Book Name</th>\n",
       "      <th></th>\n",
       "      <th></th>\n",
       "      <th></th>\n",
       "      <th></th>\n",
       "      <th></th>\n",
       "      <th></th>\n",
       "    </tr>\n",
       "  </thead>\n",
       "  <tbody>\n",
       "    <tr>\n",
       "      <th>انٹرنیٹ سے پیسہ کمائیں</th>\n",
       "      <td>3.0</td>\n",
       "      <td>4370.0</td>\n",
       "      <td>780.0</td>\n",
       "      <td>5153.0</td>\n",
       "      <td>0.151368</td>\n",
       "      <td>0.848050</td>\n",
       "    </tr>\n",
       "    <tr>\n",
       "      <th>python programming</th>\n",
       "      <td>4.0</td>\n",
       "      <td>4302.0</td>\n",
       "      <td>308.0</td>\n",
       "      <td>4614.0</td>\n",
       "      <td>0.066753</td>\n",
       "      <td>0.932380</td>\n",
       "    </tr>\n",
       "    <tr>\n",
       "      <th>product management</th>\n",
       "      <td>22.0</td>\n",
       "      <td>3027.0</td>\n",
       "      <td>74.0</td>\n",
       "      <td>3123.0</td>\n",
       "      <td>0.023695</td>\n",
       "      <td>0.969260</td>\n",
       "    </tr>\n",
       "    <tr>\n",
       "      <th>blockchain, cryptocurrency and bitcoin</th>\n",
       "      <td>25.0</td>\n",
       "      <td>2865.0</td>\n",
       "      <td>305.0</td>\n",
       "      <td>3195.0</td>\n",
       "      <td>0.095462</td>\n",
       "      <td>0.896714</td>\n",
       "    </tr>\n",
       "    <tr>\n",
       "      <th>justju ka safar-1</th>\n",
       "      <td>4.0</td>\n",
       "      <td>2619.0</td>\n",
       "      <td>20.0</td>\n",
       "      <td>2643.0</td>\n",
       "      <td>0.007567</td>\n",
       "      <td>0.990919</td>\n",
       "    </tr>\n",
       "  </tbody>\n",
       "</table>\n",
       "</div>"
      ],
      "text/plain": [
       "Order Status                            Cancelled  Completed  Returned  \\\n",
       "Book Name                                                                \n",
       "انٹرنیٹ سے پیسہ کمائیں                        3.0     4370.0     780.0   \n",
       "python programming                            4.0     4302.0     308.0   \n",
       "product management                           22.0     3027.0      74.0   \n",
       "blockchain, cryptocurrency and bitcoin       25.0     2865.0     305.0   \n",
       "justju ka safar-1                             4.0     2619.0      20.0   \n",
       "\n",
       "Order Status                            Total Sales  Returned(%)  \\\n",
       "Book Name                                                          \n",
       "انٹرنیٹ سے پیسہ کمائیں                       5153.0     0.151368   \n",
       "python programming                           4614.0     0.066753   \n",
       "product management                           3123.0     0.023695   \n",
       "blockchain, cryptocurrency and bitcoin       3195.0     0.095462   \n",
       "justju ka safar-1                            2643.0     0.007567   \n",
       "\n",
       "Order Status                            Sales Retention(%)  \n",
       "Book Name                                                   \n",
       "انٹرنیٹ سے پیسہ کمائیں                            0.848050  \n",
       "python programming                                0.932380  \n",
       "product management                                0.969260  \n",
       "blockchain, cryptocurrency and bitcoin            0.896714  \n",
       "justju ka safar-1                                 0.990919  "
      ]
     },
     "execution_count": 5,
     "metadata": {},
     "output_type": "execute_result"
    }
   ],
   "source": [
    "pivot = df.pivot_table(\"Order Number\", [\"Book Name\"], \"Order Status\", \n",
    "                       aggfunc = 'count').fillna(0).sort_values('Completed',ascending = False)\n",
    "pivot['Total Sales'] = pivot[\"Cancelled\"] + pivot[\"Completed\"] + pivot[\"Returned\"]\n",
    "pivot[\"Returned(%)\"] = pivot['Returned'] / pivot['Total Sales']\n",
    "pivot[\"Sales Retention(%)\"] = pivot['Completed'] / pivot['Total Sales']\n",
    "pivot.head(5)"
   ]
  },
  {
   "cell_type": "markdown",
   "metadata": {},
   "source": [
    "We see the best selling book is انٹرنیٹ سے پیسہ کمائیں\t. However, the book is also the most returned book out of the top 5 best selling books on the platform. The return / cancelled percentage as shown above is 15.8% as compared to the other top selling books. The other books have a higher sales retention percentage which would more positively impact the bottom line of the company."
   ]
  },
  {
   "cell_type": "code",
   "execution_count": 6,
   "metadata": {},
   "outputs": [
    {
     "data": {
      "text/html": [
       "<div>\n",
       "<style scoped>\n",
       "    .dataframe tbody tr th:only-of-type {\n",
       "        vertical-align: middle;\n",
       "    }\n",
       "\n",
       "    .dataframe tbody tr th {\n",
       "        vertical-align: top;\n",
       "    }\n",
       "\n",
       "    .dataframe thead th {\n",
       "        text-align: right;\n",
       "    }\n",
       "</style>\n",
       "<table border=\"1\" class=\"dataframe\">\n",
       "  <thead>\n",
       "    <tr style=\"text-align: right;\">\n",
       "      <th>Order Status</th>\n",
       "      <th>Cancelled</th>\n",
       "      <th>Completed</th>\n",
       "      <th>Returned</th>\n",
       "      <th>Total Sales</th>\n",
       "      <th>Returned(%)</th>\n",
       "      <th>Sales Retention(%)</th>\n",
       "    </tr>\n",
       "    <tr>\n",
       "      <th>Book Name</th>\n",
       "      <th></th>\n",
       "      <th></th>\n",
       "      <th></th>\n",
       "      <th></th>\n",
       "      <th></th>\n",
       "      <th></th>\n",
       "    </tr>\n",
       "  </thead>\n",
       "  <tbody>\n",
       "    <tr>\n",
       "      <th>justju ka safar-1</th>\n",
       "      <td>4.0</td>\n",
       "      <td>2619.0</td>\n",
       "      <td>20.0</td>\n",
       "      <td>2643.0</td>\n",
       "      <td>0.007567</td>\n",
       "      <td>0.990919</td>\n",
       "    </tr>\n",
       "    <tr>\n",
       "      <th>molo masali</th>\n",
       "      <td>1.0</td>\n",
       "      <td>1239.0</td>\n",
       "      <td>26.0</td>\n",
       "      <td>1266.0</td>\n",
       "      <td>0.020537</td>\n",
       "      <td>0.978673</td>\n",
       "    </tr>\n",
       "    <tr>\n",
       "      <th>product management</th>\n",
       "      <td>22.0</td>\n",
       "      <td>3027.0</td>\n",
       "      <td>74.0</td>\n",
       "      <td>3123.0</td>\n",
       "      <td>0.023695</td>\n",
       "      <td>0.969260</td>\n",
       "    </tr>\n",
       "    <tr>\n",
       "      <th>sukkur to florida</th>\n",
       "      <td>0.0</td>\n",
       "      <td>1023.0</td>\n",
       "      <td>33.0</td>\n",
       "      <td>1056.0</td>\n",
       "      <td>0.031250</td>\n",
       "      <td>0.968750</td>\n",
       "    </tr>\n",
       "    <tr>\n",
       "      <th>artificial intelligence</th>\n",
       "      <td>16.0</td>\n",
       "      <td>2589.0</td>\n",
       "      <td>93.0</td>\n",
       "      <td>2698.0</td>\n",
       "      <td>0.034470</td>\n",
       "      <td>0.959600</td>\n",
       "    </tr>\n",
       "  </tbody>\n",
       "</table>\n",
       "</div>"
      ],
      "text/plain": [
       "Order Status             Cancelled  Completed  Returned  Total Sales  \\\n",
       "Book Name                                                              \n",
       "justju ka safar-1              4.0     2619.0      20.0       2643.0   \n",
       "molo masali                    1.0     1239.0      26.0       1266.0   \n",
       "product management            22.0     3027.0      74.0       3123.0   \n",
       "sukkur to florida              0.0     1023.0      33.0       1056.0   \n",
       "artificial intelligence       16.0     2589.0      93.0       2698.0   \n",
       "\n",
       "Order Status             Returned(%)  Sales Retention(%)  \n",
       "Book Name                                                 \n",
       "justju ka safar-1           0.007567            0.990919  \n",
       "molo masali                 0.020537            0.978673  \n",
       "product management          0.023695            0.969260  \n",
       "sukkur to florida           0.031250            0.968750  \n",
       "artificial intelligence     0.034470            0.959600  "
      ]
     },
     "execution_count": 6,
     "metadata": {},
     "output_type": "execute_result"
    }
   ],
   "source": [
    "pivot[pivot['Total Sales'] >= 1000].sort_values('Sales Retention(%)', ascending = False).head(5)"
   ]
  },
  {
   "cell_type": "markdown",
   "metadata": {},
   "source": [
    "Based on another analysis, where books above 1,000 total sales are filtered, we can also see that certain books have a higher sales retention (%). This would ultimately result in higher sales, and fewer returns. It might be wiser for the e-commerce website to stock additional units of these books"
   ]
  },
  {
   "cell_type": "markdown",
   "metadata": {},
   "source": [
    "### 4. Visualizing Order Status Frequency"
   ]
  },
  {
   "cell_type": "code",
   "execution_count": 7,
   "metadata": {},
   "outputs": [],
   "source": [
    "# Obtain the year, month, day and day of week for the dataset\n",
    "df['year'] = pd.DatetimeIndex(df['Order Date']).year\n",
    "df['month'] = pd.DatetimeIndex(df['Order Date']).month\n",
    "df['day'] = pd.DatetimeIndex(df['Order Date']).day\n",
    "df['dayofweek'] = pd.DatetimeIndex(df['Order Date']).dayofweek\n",
    "# Obtain the hour\n",
    "df['hour'] = pd.DatetimeIndex(df['Order Date']).hour"
   ]
  },
  {
   "cell_type": "code",
   "execution_count": 8,
   "metadata": {},
   "outputs": [
    {
     "data": {
      "image/png": "[encoded data removed]",
      "text/plain": [
       "<Figure size 864x432 with 4 Axes>"
      ]
     },
     "metadata": {
      "needs_background": "light"
     },
     "output_type": "display_data"
    }
   ],
   "source": [
    "f, axes = plt.subplots(2,2, figsize = (12,6))\n",
    "g1 = sns.countplot(x = df['hour'], ax = axes[0,0])\n",
    "g2 = sns.countplot(x = df['day'], ax = axes[0,1])\n",
    "g3 = sns.countplot(x = df['month'], ax = axes[1,0])\n",
    "g4 = sns.countplot(x = df['year'], ax = axes[1,1])"
   ]
  },
  {
   "cell_type": "markdown",
   "metadata": {},
   "source": [
    "As shown by the first graph, the website would experience higher traffic in the later hours of the day (6pm onwards). This would most likely be from people coming back from work and shopping online. There also seems to be higher sales in the first month and the majority of the sales have happened in the year 2020. This will be explored further later on"
   ]
  },
  {
   "cell_type": "code",
   "execution_count": 9,
   "metadata": {},
   "outputs": [
    {
     "name": "stderr",
     "output_type": "stream",
     "text": [
      "D:\\Spyder\\lib\\site-packages\\seaborn\\_decorators.py:43: FutureWarning: Pass the following variable as a keyword arg: y. From version 0.12, the only valid positional argument will be `data`, and passing other arguments without an explicit keyword will result in an error or misinterpretation.\n",
      "  FutureWarning\n",
      "D:\\Spyder\\lib\\site-packages\\seaborn\\distributions.py:1676: UserWarning: `shade_lowest` is now deprecated in favor of `thresh`. Setting `thresh=0.05`, but please update your code.\n",
      "  warnings.warn(msg, UserWarning)\n"
     ]
    },
    {
     "data": {
      "text/plain": [
       "<AxesSubplot:xlabel='month', ylabel='hour'>"
      ]
     },
     "execution_count": 9,
     "metadata": {},
     "output_type": "execute_result"
    },
    {
     "data": {
      "image/png": "[encoded data removed]",
      "text/plain": [
       "<Figure size 432x288 with 1 Axes>"
      ]
     },
     "metadata": {
      "needs_background": "light"
     },
     "output_type": "display_data"
    }
   ],
   "source": [
    "sns.kdeplot(df['month'], df['hour'], shade = True, shade_lowest = False, cmap = 'Reds')"
   ]
  },
  {
   "cell_type": "markdown",
   "metadata": {},
   "source": [
    "From the above, we can notice that the first and last few months have the highest sales of books. The concentration of sales is mainly from November to January. This may be due to college / high school students buying new books for the semester"
   ]
  },
  {
   "cell_type": "markdown",
   "metadata": {},
   "source": [
    "### 5. Book Orders by City"
   ]
  },
  {
   "cell_type": "code",
   "execution_count": 10,
   "metadata": {},
   "outputs": [
    {
     "data": {
      "text/plain": [
       "karachi       8011\n",
       "lahore        6540\n",
       "islamabad     2841\n",
       "rawalpindi    2086\n",
       "faisalabad    1567\n",
       "peshawar      1479\n",
       "multan        1386\n",
       "gujranwala     834\n",
       "hyderabad      795\n",
       "quetta         756\n",
       "Name: City (Billing), dtype: int64"
      ]
     },
     "execution_count": 10,
     "metadata": {},
     "output_type": "execute_result"
    }
   ],
   "source": [
    "df['City (Billing)'].value_counts().head(10)"
   ]
  },
  {
   "cell_type": "markdown",
   "metadata": {},
   "source": [
    "For the purposes of the study, we will choose cities that have total sales of above 1000 books. The following cities will be used:\n",
    "- Karachi\n",
    "- Lahore\n",
    "- Islamabad\n",
    "- Rawalpindi\n",
    "- Faisalabad\n",
    "- Peshawar\n",
    "- Multan"
   ]
  },
  {
   "cell_type": "code",
   "execution_count": 11,
   "metadata": {},
   "outputs": [],
   "source": [
    "# Create the cities dataset\n",
    "cities_df = df[df['City (Billing)'].isin(['karachi','lahore','islamabad','rawalpindi','faisalabad',\n",
    "                                          'peshawar','multan'])]"
   ]
  },
  {
   "cell_type": "code",
   "execution_count": 12,
   "metadata": {},
   "outputs": [
    {
     "data": {
      "text/plain": [
       "Text(0.5, 1.0, 'Average Sales (by Day) for the Largest Cities')"
      ]
     },
     "execution_count": 12,
     "metadata": {},
     "output_type": "execute_result"
    },
    {
     "data": {
      "image/png": "[encoded data removed]",
      "text/plain": [
       "<Figure size 1080x576 with 1 Axes>"
      ]
     },
     "metadata": {
      "needs_background": "light"
     },
     "output_type": "display_data"
    }
   ],
   "source": [
    "# Day of Week Plot by City\n",
    "# Please note that Monday = 0 and Sunday = 6\n",
    "plt.figure(figsize=(15,8))\n",
    "sns.countplot(x = cities_df['dayofweek'], hue = cities_df['City (Billing)'])\n",
    "plt.title('Average Sales (by Day) for the Largest Cities')"
   ]
  },
  {
   "cell_type": "markdown",
   "metadata": {},
   "source": [
    "From the plot above, we see that there is an increase in sales on Saturday (5) and Sunday (6) especially in the two largest cities (Karachi and Lahore). This would indicate that most shoppers will buy books on those two days and online bookstores should expect a high volume of sales during the weekend."
   ]
  },
  {
   "cell_type": "code",
   "execution_count": 13,
   "metadata": {},
   "outputs": [
    {
     "data": {
      "text/plain": [
       "Text(0.5, 1.0, 'Average Weekly Book Sales by Hour (After 10am)')"
      ]
     },
     "execution_count": 13,
     "metadata": {},
     "output_type": "execute_result"
    },
    {
     "data": {
      "image/png": "[encoded data removed]",
      "text/plain": [
       "<Figure size 1440x576 with 1 Axes>"
      ]
     },
     "metadata": {
      "needs_background": "light"
     },
     "output_type": "display_data"
    }
   ],
   "source": [
    "plt.figure(figsize=(20,8))\n",
    "sns.countplot(x = cities_df[cities_df['hour'] >= 10]['hour'], hue = cities_df['City (Billing)'])\n",
    "plt.title('Average Weekly Book Sales by Hour (After 10am)')"
   ]
  },
  {
   "cell_type": "markdown",
   "metadata": {},
   "source": [
    "For the purposes of the study, we see that the average daily hours people usually buy is at night 8pm onwards. This would indicate, once again that for the largest cities, resources should be allocated towards the latter half of the day to ensure a seamless buying process for customers."
   ]
  },
  {
   "cell_type": "code",
   "execution_count": 14,
   "metadata": {},
   "outputs": [
    {
     "data": {
      "text/plain": [
       "Text(0.5, 1.0, 'Average Sales for Saturday and Sunday')"
      ]
     },
     "execution_count": 14,
     "metadata": {},
     "output_type": "execute_result"
    },
    {
     "data": {
      "image/png": "[encoded data removed]",
      "text/plain": [
       "<Figure size 1440x576 with 1 Axes>"
      ]
     },
     "metadata": {
      "needs_background": "light"
     },
     "output_type": "display_data"
    }
   ],
   "source": [
    "# Average book sales for Saturday and Sunday\n",
    "plt.figure(figsize=(20,8))\n",
    "sns.countplot(data = cities_df[(cities_df['hour'] >= 10) & ((cities_df['dayofweek'] == 5) | (cities_df['dayofweek'] == 6))],\n",
    "              x = 'hour', hue = 'City (Billing)')\n",
    "plt.title('Average Sales for Saturday and Sunday')"
   ]
  },
  {
   "cell_type": "markdown",
   "metadata": {},
   "source": [
    "We see that the highest sales happen at 3pm and later on in the night. This is most likely due to people getting up late in Pakistan during the weekends and shopping only kicking off later on in the day"
   ]
  },
  {
   "cell_type": "code",
   "execution_count": 15,
   "metadata": {},
   "outputs": [
    {
     "data": {
      "text/plain": [
       "Text(0.5, 1.0, 'Average Sales for Monday to Friday')"
      ]
     },
     "execution_count": 15,
     "metadata": {},
     "output_type": "execute_result"
    },
    {
     "data": {
      "image/png": "[encoded data removed]",
      "text/plain": [
       "<Figure size 1440x576 with 1 Axes>"
      ]
     },
     "metadata": {
      "needs_background": "light"
     },
     "output_type": "display_data"
    }
   ],
   "source": [
    "# Average book sales for Monday - Friday\n",
    "plt.figure(figsize=(20,8))\n",
    "sns.countplot(data = cities_df[(cities_df['hour'] >= 10) & (cities_df['dayofweek'].isin([0,1,2,3,4]))],\n",
    "              x = 'hour', hue = 'City (Billing)')\n",
    "plt.title('Average Sales for Monday to Friday')"
   ]
  },
  {
   "cell_type": "markdown",
   "metadata": {},
   "source": [
    "We see that the order is somewhat evenly distributed with slightly higher activity taking place in the evening (after 8pm) as we have noticed in the previous trends"
   ]
  },
  {
   "cell_type": "code",
   "execution_count": 16,
   "metadata": {},
   "outputs": [
    {
     "data": {
      "text/plain": [
       "Text(0.5, 1.0, 'Average Sales for Monday to Friday')"
      ]
     },
     "execution_count": 16,
     "metadata": {},
     "output_type": "execute_result"
    },
    {
     "data": {
      "image/png": "[encoded data removed]",
      "text/plain": [
       "<Figure size 1440x576 with 1 Axes>"
      ]
     },
     "metadata": {
      "needs_background": "light"
     },
     "output_type": "display_data"
    }
   ],
   "source": [
    "# Order Status by city\n",
    "plt.figure(figsize=(20,8))\n",
    "sns.countplot(x = cities_df['City (Billing)'], hue = cities_df['Order Status'])\n",
    "plt.title('Average Sales for Monday to Friday')"
   ]
  },
  {
   "cell_type": "markdown",
   "metadata": {},
   "source": [
    "We see that the highest number of completed orders stem from Pakistan's four largest cities: Karachi, Lahore, Islamabad and Rawalpindi. Coincidentally, these cities also hold the highest educated people in the country with the highest amount of schools and universities. "
   ]
  },
  {
   "cell_type": "code",
   "execution_count": 17,
   "metadata": {},
   "outputs": [
    {
     "data": {
      "text/html": [
       "<div>\n",
       "<style scoped>\n",
       "    .dataframe tbody tr th:only-of-type {\n",
       "        vertical-align: middle;\n",
       "    }\n",
       "\n",
       "    .dataframe tbody tr th {\n",
       "        vertical-align: top;\n",
       "    }\n",
       "\n",
       "    .dataframe thead th {\n",
       "        text-align: right;\n",
       "    }\n",
       "</style>\n",
       "<table border=\"1\" class=\"dataframe\">\n",
       "  <thead>\n",
       "    <tr style=\"text-align: right;\">\n",
       "      <th>City (Billing)</th>\n",
       "      <th>faisalabad</th>\n",
       "      <th>islamabad</th>\n",
       "      <th>karachi</th>\n",
       "      <th>lahore</th>\n",
       "      <th>multan</th>\n",
       "      <th>peshawar</th>\n",
       "      <th>rawalpindi</th>\n",
       "    </tr>\n",
       "    <tr>\n",
       "      <th>Book Name</th>\n",
       "      <th></th>\n",
       "      <th></th>\n",
       "      <th></th>\n",
       "      <th></th>\n",
       "      <th></th>\n",
       "      <th></th>\n",
       "      <th></th>\n",
       "    </tr>\n",
       "  </thead>\n",
       "  <tbody>\n",
       "    <tr>\n",
       "      <th>انٹرنیٹ سے پیسہ کمائیں</th>\n",
       "      <td>142.0</td>\n",
       "      <td>162.0</td>\n",
       "      <td>707.0</td>\n",
       "      <td>480.0</td>\n",
       "      <td>108.0</td>\n",
       "      <td>134.0</td>\n",
       "      <td>147.0</td>\n",
       "    </tr>\n",
       "    <tr>\n",
       "      <th>product management</th>\n",
       "      <td>108.0</td>\n",
       "      <td>135.0</td>\n",
       "      <td>468.0</td>\n",
       "      <td>519.0</td>\n",
       "      <td>84.0</td>\n",
       "      <td>105.0</td>\n",
       "      <td>129.0</td>\n",
       "    </tr>\n",
       "    <tr>\n",
       "      <th>python programming</th>\n",
       "      <td>135.0</td>\n",
       "      <td>168.0</td>\n",
       "      <td>437.0</td>\n",
       "      <td>483.0</td>\n",
       "      <td>84.0</td>\n",
       "      <td>150.0</td>\n",
       "      <td>147.0</td>\n",
       "    </tr>\n",
       "    <tr>\n",
       "      <th>??????? ?? ???? ??????</th>\n",
       "      <td>71.0</td>\n",
       "      <td>81.0</td>\n",
       "      <td>353.0</td>\n",
       "      <td>240.0</td>\n",
       "      <td>54.0</td>\n",
       "      <td>67.0</td>\n",
       "      <td>73.0</td>\n",
       "    </tr>\n",
       "    <tr>\n",
       "      <th>artificial intelligence</th>\n",
       "      <td>90.0</td>\n",
       "      <td>81.0</td>\n",
       "      <td>316.0</td>\n",
       "      <td>276.0</td>\n",
       "      <td>63.0</td>\n",
       "      <td>90.0</td>\n",
       "      <td>45.0</td>\n",
       "    </tr>\n",
       "    <tr>\n",
       "      <th>blockchain, cryptocurrency and bitcoin</th>\n",
       "      <td>90.0</td>\n",
       "      <td>114.0</td>\n",
       "      <td>316.0</td>\n",
       "      <td>335.0</td>\n",
       "      <td>78.0</td>\n",
       "      <td>147.0</td>\n",
       "      <td>108.0</td>\n",
       "    </tr>\n",
       "    <tr>\n",
       "      <th>justju ka safar-1</th>\n",
       "      <td>45.0</td>\n",
       "      <td>135.0</td>\n",
       "      <td>294.0</td>\n",
       "      <td>282.0</td>\n",
       "      <td>66.0</td>\n",
       "      <td>72.0</td>\n",
       "      <td>105.0</td>\n",
       "    </tr>\n",
       "    <tr>\n",
       "      <th>ڈیٹا سائنس ۔ ایک تعارف</th>\n",
       "      <td>38.0</td>\n",
       "      <td>56.0</td>\n",
       "      <td>224.0</td>\n",
       "      <td>158.0</td>\n",
       "      <td>24.0</td>\n",
       "      <td>28.0</td>\n",
       "      <td>52.0</td>\n",
       "    </tr>\n",
       "    <tr>\n",
       "      <th>lucky draw - free book</th>\n",
       "      <td>48.0</td>\n",
       "      <td>54.0</td>\n",
       "      <td>186.0</td>\n",
       "      <td>120.0</td>\n",
       "      <td>57.0</td>\n",
       "      <td>18.0</td>\n",
       "      <td>39.0</td>\n",
       "    </tr>\n",
       "    <tr>\n",
       "      <th>python programming- release date: august 14, 2020</th>\n",
       "      <td>24.0</td>\n",
       "      <td>66.0</td>\n",
       "      <td>162.0</td>\n",
       "      <td>105.0</td>\n",
       "      <td>36.0</td>\n",
       "      <td>27.0</td>\n",
       "      <td>63.0</td>\n",
       "    </tr>\n",
       "  </tbody>\n",
       "</table>\n",
       "</div>"
      ],
      "text/plain": [
       "City (Billing)                                     faisalabad  islamabad  \\\n",
       "Book Name                                                                  \n",
       "انٹرنیٹ سے پیسہ کمائیں                                  142.0      162.0   \n",
       "product management                                      108.0      135.0   \n",
       "python programming                                      135.0      168.0   \n",
       "??????? ?? ???? ??????                                   71.0       81.0   \n",
       "artificial intelligence                                  90.0       81.0   \n",
       "blockchain, cryptocurrency and bitcoin                   90.0      114.0   \n",
       "justju ka safar-1                                        45.0      135.0   \n",
       "ڈیٹا سائنس ۔ ایک تعارف                                   38.0       56.0   \n",
       "lucky draw - free book                                   48.0       54.0   \n",
       "python programming- release date: august 14, 2020        24.0       66.0   \n",
       "\n",
       "City (Billing)                                     karachi  lahore  multan  \\\n",
       "Book Name                                                                    \n",
       "انٹرنیٹ سے پیسہ کمائیں                               707.0   480.0   108.0   \n",
       "product management                                   468.0   519.0    84.0   \n",
       "python programming                                   437.0   483.0    84.0   \n",
       "??????? ?? ???? ??????                               353.0   240.0    54.0   \n",
       "artificial intelligence                              316.0   276.0    63.0   \n",
       "blockchain, cryptocurrency and bitcoin               316.0   335.0    78.0   \n",
       "justju ka safar-1                                    294.0   282.0    66.0   \n",
       "ڈیٹا سائنس ۔ ایک تعارف                               224.0   158.0    24.0   \n",
       "lucky draw - free book                               186.0   120.0    57.0   \n",
       "python programming- release date: august 14, 2020    162.0   105.0    36.0   \n",
       "\n",
       "City (Billing)                                     peshawar  rawalpindi  \n",
       "Book Name                                                                \n",
       "انٹرنیٹ سے پیسہ کمائیں                                134.0       147.0  \n",
       "product management                                    105.0       129.0  \n",
       "python programming                                    150.0       147.0  \n",
       "??????? ?? ???? ??????                                 67.0        73.0  \n",
       "artificial intelligence                                90.0        45.0  \n",
       "blockchain, cryptocurrency and bitcoin                147.0       108.0  \n",
       "justju ka safar-1                                      72.0       105.0  \n",
       "ڈیٹا سائنس ۔ ایک تعارف                                 28.0        52.0  \n",
       "lucky draw - free book                                 18.0        39.0  \n",
       "python programming- release date: august 14, 2020      27.0        63.0  "
      ]
     },
     "execution_count": 17,
     "metadata": {},
     "output_type": "execute_result"
    }
   ],
   "source": [
    "# Top books by city\n",
    "cities_df.pivot_table(\"Order Number\", [\"Book Name\"], \n",
    "                      \"City (Billing)\", \n",
    "                      aggfunc = 'count').fillna(0).sort_values('karachi',ascending = False).head(10)"
   ]
  },
  {
   "cell_type": "markdown",
   "metadata": {},
   "source": [
    "As shown by the highest book sales by the city, we see that Karachi has the highest sales of \"انٹرنیٹ سے پیسہ کمائیں\" which is largely the highest, or one of the highest, books sold in each of the largest cities. However, we see that technological books dominate the top 10 highest sold books in the city e.g. Python programming, artificial intelligence, block cryptocurrency and bitcoin and Python programming - release date: August 14 2020. For an online marketplace, it may be important to keep a wide variety of technology books.  "
   ]
  },
  {
   "cell_type": "markdown",
   "metadata": {},
   "source": [
    "### 6. Issues with the Dataset"
   ]
  },
  {
   "cell_type": "markdown",
   "metadata": {},
   "source": [
    "During the analysis, we noted several issues with the dataset that will be discussed below"
   ]
  },
  {
   "cell_type": "markdown",
   "metadata": {},
   "source": [
    "*1) Month skew*\n",
    "\n",
    "As shown below, we see that February, March and April do not have many transactions. It is important to ensure that the data is complete and that the data has not been tampered with for the months of February to April."
   ]
  },
  {
   "cell_type": "code",
   "execution_count": 28,
   "metadata": {},
   "outputs": [
    {
     "data": {
      "text/plain": [
       "<seaborn.axisgrid.FacetGrid at 0x245f13453c8>"
      ]
     },
     "execution_count": 28,
     "metadata": {},
     "output_type": "execute_result"
    },
    {
     "data": {
      "image/png": "[encoded data removed]",
      "text/plain": [
       "<Figure size 360x360 with 1 Axes>"
      ]
     },
     "metadata": {
      "needs_background": "light"
     },
     "output_type": "display_data"
    }
   ],
   "source": [
    "sns.displot(df['month'])"
   ]
  },
  {
   "cell_type": "markdown",
   "metadata": {},
   "source": [
    "*2) Book Names*\n",
    "\n",
    "As seen in the prior analysis, the book names are either not complete or cannot be tracket properly. It may be more useful to use the ISBN to track sales as well as place each ISBN in a specific genre. This can be done easily and would greatly improve the quality of the data."
   ]
  },
  {
   "cell_type": "markdown",
   "metadata": {},
   "source": [
    "*3) City Names*\n",
    "\n",
    "As seen during the analysis, the city names are not properly categorized. It is important to ensure that the proper city name is taken for better data quality. An easier way to do this is to use geolocation and grouping areas for better analysis of book sales"
   ]
  }
 ],
 "metadata": {
  "kernelspec": {
   "display_name": "Python 3",
   "language": "python",
   "name": "python3"
  },
  "language_info": {
   "codemirror_mode": {
    "name": "ipython",
    "version": 3
   },
   "file_extension": ".py",
   "mimetype": "text/x-python",
   "name": "python",
   "nbconvert_exporter": "python",
   "pygments_lexer": "ipython3",
   "version": "3.7.1"
  }
 },
 "nbformat": 4,
 "nbformat_minor": 4
}
