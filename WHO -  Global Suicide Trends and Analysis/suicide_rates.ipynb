{
 "cells": [
  {
   "cell_type": "markdown",
   "metadata": {},
   "source": [
    "# World Health Organization: Global Suicide Trends and Analysis"
   ]
  },
  {
   "cell_type": "markdown",
   "metadata": {},
   "source": [
    "## Table of Contents"
   ]
  },
  {
   "cell_type": "markdown",
   "metadata": {},
   "source": [
    "    1 Introduction\n",
    "        1.1 Dataset Information\n",
    "        1.2 Import & Data Cleaning\n",
    "        1.3 Key Insights\n",
    "    2 Global Analysis\n",
    "        2.1 Global Trend \n",
    "        2.2 By Continent \n",
    "        2.3 By Sex \n",
    "        2.4 By Age \n",
    "        2.5 By Country \n",
    "            2.5.1 Overall \n",
    "            2.5.2 Linear Trends\n",
    "        2.6 Gender differences, by Continent \n",
    "        2.7 Gender differences, by Country \n",
    "        2.8 Age differences, by Continent \n",
    "        2.9 Do richer countries have a higher rate of suicide?"
   ]
  },
  {
   "cell_type": "markdown",
   "metadata": {},
   "source": [
    "## 1) Introduction"
   ]
  },
  {
   "cell_type": "markdown",
   "metadata": {},
   "source": [
    "### 1.1 Dataset Information"
   ]
  },
  {
   "cell_type": "markdown",
   "metadata": {},
   "source": [
    "**Content**\n",
    "\n",
    "This compiled dataset pulled from four other datasets linked by time and place, and was built to find signals correlated to increased suicide rates among different cohorts globally, across the socio-economic spectrum.\n",
    "\n",
    "**References**\n",
    "\n",
    "United Nations Development Program. (2018). Human development index (HDI). \n",
    "Retrieved from http://hdr.undp.org/en/indicators/137506\n",
    "\n",
    "World Bank. (2018). World development indicators: GDP (current US$) by country:1985 to 2016. \n",
    "Retrieved from http://databank.worldbank.org/data/source/world-development-indicators#\n",
    "\n",
    "[Szamil]. (2017). Suicide in the Twenty-First Century [dataset]. \n",
    "Retrieved from https://www.kaggle.com/szamil/suicide-in-the-twenty-first-century/notebook\n",
    "\n",
    "World Health Organization. (2018). Suicide prevention. \n",
    "Retrieved from http://www.who.int/mental_health/suicide-prevention/en/\n",
    "\n",
    "**Inspiration**\n",
    "\n",
    "Suicide Prevention."
   ]
  },
  {
   "cell_type": "markdown",
   "metadata": {},
   "source": [
    "### 1.2 Import and Data Cleaning"
   ]
  },
  {
   "cell_type": "code",
   "execution_count": 2,
   "metadata": {},
   "outputs": [
    {
     "data": {
      "text/html": [
       "        <script type=\"text/javascript\">\n",
       "        window.PlotlyConfig = {MathJaxConfig: 'local'};\n",
       "        if (window.MathJax) {MathJax.Hub.Config({SVG: {font: \"STIX-Web\"}});}\n",
       "        if (typeof require !== 'undefined') {\n",
       "        require.undef(\"plotly\");\n",
       "        requirejs.config({\n",
       "            paths: {\n",
       "                'plotly': ['https://cdn.plot.ly/plotly-latest.min']\n",
       "            }\n",
       "        });\n",
       "        require(['plotly'], function(Plotly) {\n",
       "            window._Plotly = Plotly;\n",
       "        });\n",
       "        }\n",
       "        </script>\n",
       "        "
      ]
     },
     "metadata": {},
     "output_type": "display_data"
    }
   ],
   "source": [
    "# Import necessary libraries and dataset\n",
    "import os\n",
    "import numpy as np\n",
    "import pandas as pd\n",
    "import matplotlib.pyplot as plt\n",
    "import seaborn as sns\n",
    "import pycountry_convert as pc\n",
    "\n",
    "# Import libraries for geographical map\n",
    "import plotly.graph_objs as go \n",
    "from plotly.offline import download_plotlyjs, init_notebook_mode, plot, iplot\n",
    "init_notebook_mode(connected=True)\n",
    "\n",
    "# Import libraries for Linear Regression\n",
    "from sklearn.linear_model import LinearRegression\n",
    "from sklearn.model_selection import train_test_split"
   ]
  },
  {
   "cell_type": "code",
   "execution_count": 3,
   "metadata": {},
   "outputs": [
    {
     "name": "stdout",
     "output_type": "stream",
     "text": [
      "<class 'pandas.core.frame.DataFrame'>\n",
      "RangeIndex: 27820 entries, 0 to 27819\n",
      "Data columns (total 12 columns):\n",
      " #   Column              Non-Null Count  Dtype  \n",
      "---  ------              --------------  -----  \n",
      " 0   country             27820 non-null  object \n",
      " 1   year                27820 non-null  int64  \n",
      " 2   sex                 27820 non-null  object \n",
      " 3   age                 27820 non-null  object \n",
      " 4   suicides_no         27820 non-null  int64  \n",
      " 5   population          27820 non-null  int64  \n",
      " 6   suicides/100k pop   27820 non-null  float64\n",
      " 7   country-year        27820 non-null  object \n",
      " 8   HDI for year        8364 non-null   float64\n",
      " 9    gdp_for_year ($)   27820 non-null  object \n",
      " 10  gdp_per_capita ($)  27820 non-null  int64  \n",
      " 11  generation          27820 non-null  object \n",
      "dtypes: float64(2), int64(4), object(6)\n",
      "memory usage: 2.5+ MB\n"
     ]
    }
   ],
   "source": [
    "os.chdir(\"D:\\\\google-drive\\\\3. Projects in Progress\\\\1. Data Analytics\\\\Suicide Rates Overview\")\n",
    "raw_data = pd.read_csv('master.csv')\n",
    "raw_data.info()"
   ]
  },
  {
   "cell_type": "code",
   "execution_count": 3,
   "metadata": {},
   "outputs": [
    {
     "data": {
      "text/html": [
       "<div>\n",
       "<style scoped>\n",
       "    .dataframe tbody tr th:only-of-type {\n",
       "        vertical-align: middle;\n",
       "    }\n",
       "\n",
       "    .dataframe tbody tr th {\n",
       "        vertical-align: top;\n",
       "    }\n",
       "\n",
       "    .dataframe thead th {\n",
       "        text-align: right;\n",
       "    }\n",
       "</style>\n",
       "<table border=\"1\" class=\"dataframe\">\n",
       "  <thead>\n",
       "    <tr style=\"text-align: right;\">\n",
       "      <th></th>\n",
       "      <th>year</th>\n",
       "      <th>suicides_no</th>\n",
       "      <th>population</th>\n",
       "      <th>suicides/100k pop</th>\n",
       "      <th>HDI for year</th>\n",
       "      <th>gdp_per_capita ($)</th>\n",
       "    </tr>\n",
       "  </thead>\n",
       "  <tbody>\n",
       "    <tr>\n",
       "      <th>count</th>\n",
       "      <td>27820.000000</td>\n",
       "      <td>27820.000000</td>\n",
       "      <td>2.782000e+04</td>\n",
       "      <td>27820.000000</td>\n",
       "      <td>8364.000000</td>\n",
       "      <td>27820.000000</td>\n",
       "    </tr>\n",
       "    <tr>\n",
       "      <th>mean</th>\n",
       "      <td>2001.258375</td>\n",
       "      <td>242.574407</td>\n",
       "      <td>1.844794e+06</td>\n",
       "      <td>12.816097</td>\n",
       "      <td>0.776601</td>\n",
       "      <td>16866.464414</td>\n",
       "    </tr>\n",
       "    <tr>\n",
       "      <th>std</th>\n",
       "      <td>8.469055</td>\n",
       "      <td>902.047917</td>\n",
       "      <td>3.911779e+06</td>\n",
       "      <td>18.961511</td>\n",
       "      <td>0.093367</td>\n",
       "      <td>18887.576472</td>\n",
       "    </tr>\n",
       "    <tr>\n",
       "      <th>min</th>\n",
       "      <td>1985.000000</td>\n",
       "      <td>0.000000</td>\n",
       "      <td>2.780000e+02</td>\n",
       "      <td>0.000000</td>\n",
       "      <td>0.483000</td>\n",
       "      <td>251.000000</td>\n",
       "    </tr>\n",
       "    <tr>\n",
       "      <th>25%</th>\n",
       "      <td>1995.000000</td>\n",
       "      <td>3.000000</td>\n",
       "      <td>9.749850e+04</td>\n",
       "      <td>0.920000</td>\n",
       "      <td>0.713000</td>\n",
       "      <td>3447.000000</td>\n",
       "    </tr>\n",
       "    <tr>\n",
       "      <th>50%</th>\n",
       "      <td>2002.000000</td>\n",
       "      <td>25.000000</td>\n",
       "      <td>4.301500e+05</td>\n",
       "      <td>5.990000</td>\n",
       "      <td>0.779000</td>\n",
       "      <td>9372.000000</td>\n",
       "    </tr>\n",
       "    <tr>\n",
       "      <th>75%</th>\n",
       "      <td>2008.000000</td>\n",
       "      <td>131.000000</td>\n",
       "      <td>1.486143e+06</td>\n",
       "      <td>16.620000</td>\n",
       "      <td>0.855000</td>\n",
       "      <td>24874.000000</td>\n",
       "    </tr>\n",
       "    <tr>\n",
       "      <th>max</th>\n",
       "      <td>2016.000000</td>\n",
       "      <td>22338.000000</td>\n",
       "      <td>4.380521e+07</td>\n",
       "      <td>224.970000</td>\n",
       "      <td>0.944000</td>\n",
       "      <td>126352.000000</td>\n",
       "    </tr>\n",
       "  </tbody>\n",
       "</table>\n",
       "</div>"
      ],
      "text/plain": [
       "               year   suicides_no    population  suicides/100k pop  \\\n",
       "count  27820.000000  27820.000000  2.782000e+04       27820.000000   \n",
       "mean    2001.258375    242.574407  1.844794e+06          12.816097   \n",
       "std        8.469055    902.047917  3.911779e+06          18.961511   \n",
       "min     1985.000000      0.000000  2.780000e+02           0.000000   \n",
       "25%     1995.000000      3.000000  9.749850e+04           0.920000   \n",
       "50%     2002.000000     25.000000  4.301500e+05           5.990000   \n",
       "75%     2008.000000    131.000000  1.486143e+06          16.620000   \n",
       "max     2016.000000  22338.000000  4.380521e+07         224.970000   \n",
       "\n",
       "       HDI for year  gdp_per_capita ($)  \n",
       "count   8364.000000        27820.000000  \n",
       "mean       0.776601        16866.464414  \n",
       "std        0.093367        18887.576472  \n",
       "min        0.483000          251.000000  \n",
       "25%        0.713000         3447.000000  \n",
       "50%        0.779000         9372.000000  \n",
       "75%        0.855000        24874.000000  \n",
       "max        0.944000       126352.000000  "
      ]
     },
     "execution_count": 3,
     "metadata": {},
     "output_type": "execute_result"
    }
   ],
   "source": [
    "raw_data.describe()"
   ]
  },
  {
   "cell_type": "markdown",
   "metadata": {},
   "source": [
    "#### Data Cleaning Notes\n",
    "\n",
    "1) HDI was removed due to only 8300 entries in total\n",
    "\n",
    "2) Continent for each observation was added to the dataset\n",
    "\n",
    "3) It seems that the dataset only has a few countries with 2016 data. As a result, the data for 2016 has been removed.\n",
    "\n",
    "4) The minimum data needed for each country is > 3 years of data. 8 countries were removed as they had less than or equal to (<=) 3 years of data.\n"
   ]
  },
  {
   "cell_type": "code",
   "execution_count": 4,
   "metadata": {},
   "outputs": [],
   "source": [
    "# Only 8364 entries for 'HDI for year' have actual values. The rest are NA\n",
    "len(raw_data['HDI for year']) - len(raw_data[raw_data['HDI for year'].isna()])\n",
    "raw_data.drop('HDI for year', axis = 1, inplace = True)"
   ]
  },
  {
   "cell_type": "code",
   "execution_count": 5,
   "metadata": {
    "collapsed": true
   },
   "outputs": [
    {
     "name": "stderr",
     "output_type": "stream",
     "text": [
      "D:\\Spyder\\lib\\site-packages\\ipykernel_launcher.py:14: SettingWithCopyWarning:\n",
      "\n",
      "\n",
      "A value is trying to be set on a copy of a slice from a DataFrame\n",
      "\n",
      "See the caveats in the documentation: https://pandas.pydata.org/pandas-docs/stable/user_guide/indexing.html#returning-a-view-versus-a-copy\n",
      "\n",
      "D:\\Spyder\\lib\\site-packages\\ipykernel_launcher.py:20: SettingWithCopyWarning:\n",
      "\n",
      "\n",
      "A value is trying to be set on a copy of a slice from a DataFrame\n",
      "\n",
      "See the caveats in the documentation: https://pandas.pydata.org/pandas-docs/stable/user_guide/indexing.html#returning-a-view-versus-a-copy\n",
      "\n"
     ]
    },
    {
     "name": "stdout",
     "output_type": "stream",
     "text": [
      "Saint Vincent and Grenadines\n",
      "Saint Vincent and Grenadines\n",
      "Saint Vincent and Grenadines\n",
      "Saint Vincent and Grenadines\n",
      "Saint Vincent and Grenadines\n",
      "Saint Vincent and Grenadines\n",
      "Saint Vincent and Grenadines\n",
      "Saint Vincent and Grenadines\n",
      "Saint Vincent and Grenadines\n",
      "Saint Vincent and Grenadines\n",
      "Saint Vincent and Grenadines\n",
      "Saint Vincent and Grenadines\n",
      "Saint Vincent and Grenadines\n",
      "Saint Vincent and Grenadines\n",
      "Saint Vincent and Grenadines\n",
      "Saint Vincent and Grenadines\n",
      "Saint Vincent and Grenadines\n",
      "Saint Vincent and Grenadines\n",
      "Saint Vincent and Grenadines\n",
      "Saint Vincent and Grenadines\n",
      "Saint Vincent and Grenadines\n",
      "Saint Vincent and Grenadines\n",
      "Saint Vincent and Grenadines\n",
      "Saint Vincent and Grenadines\n",
      "Saint Vincent and Grenadines\n",
      "Saint Vincent and Grenadines\n",
      "Saint Vincent and Grenadines\n",
      "Saint Vincent and Grenadines\n",
      "Saint Vincent and Grenadines\n",
      "Saint Vincent and Grenadines\n",
      "Saint Vincent and Grenadines\n",
      "Saint Vincent and Grenadines\n",
      "Saint Vincent and Grenadines\n",
      "Saint Vincent and Grenadines\n",
      "Saint Vincent and Grenadines\n",
      "Saint Vincent and Grenadines\n",
      "Saint Vincent and Grenadines\n",
      "Saint Vincent and Grenadines\n",
      "Saint Vincent and Grenadines\n",
      "Saint Vincent and Grenadines\n",
      "Saint Vincent and Grenadines\n",
      "Saint Vincent and Grenadines\n",
      "Saint Vincent and Grenadines\n",
      "Saint Vincent and Grenadines\n",
      "Saint Vincent and Grenadines\n",
      "Saint Vincent and Grenadines\n",
      "Saint Vincent and Grenadines\n",
      "Saint Vincent and Grenadines\n",
      "Saint Vincent and Grenadines\n",
      "Saint Vincent and Grenadines\n",
      "Saint Vincent and Grenadines\n",
      "Saint Vincent and Grenadines\n",
      "Saint Vincent and Grenadines\n",
      "Saint Vincent and Grenadines\n",
      "Saint Vincent and Grenadines\n",
      "Saint Vincent and Grenadines\n",
      "Saint Vincent and Grenadines\n",
      "Saint Vincent and Grenadines\n",
      "Saint Vincent and Grenadines\n",
      "Saint Vincent and Grenadines\n",
      "Saint Vincent and Grenadines\n",
      "Saint Vincent and Grenadines\n",
      "Saint Vincent and Grenadines\n",
      "Saint Vincent and Grenadines\n",
      "Saint Vincent and Grenadines\n",
      "Saint Vincent and Grenadines\n",
      "Saint Vincent and Grenadines\n",
      "Saint Vincent and Grenadines\n",
      "Saint Vincent and Grenadines\n",
      "Saint Vincent and Grenadines\n",
      "Saint Vincent and Grenadines\n",
      "Saint Vincent and Grenadines\n",
      "Saint Vincent and Grenadines\n",
      "Saint Vincent and Grenadines\n",
      "Saint Vincent and Grenadines\n",
      "Saint Vincent and Grenadines\n",
      "Saint Vincent and Grenadines\n",
      "Saint Vincent and Grenadines\n",
      "Saint Vincent and Grenadines\n",
      "Saint Vincent and Grenadines\n",
      "Saint Vincent and Grenadines\n",
      "Saint Vincent and Grenadines\n",
      "Saint Vincent and Grenadines\n",
      "Saint Vincent and Grenadines\n",
      "Saint Vincent and Grenadines\n",
      "Saint Vincent and Grenadines\n",
      "Saint Vincent and Grenadines\n",
      "Saint Vincent and Grenadines\n",
      "Saint Vincent and Grenadines\n",
      "Saint Vincent and Grenadines\n",
      "Saint Vincent and Grenadines\n",
      "Saint Vincent and Grenadines\n",
      "Saint Vincent and Grenadines\n",
      "Saint Vincent and Grenadines\n",
      "Saint Vincent and Grenadines\n",
      "Saint Vincent and Grenadines\n",
      "Saint Vincent and Grenadines\n",
      "Saint Vincent and Grenadines\n",
      "Saint Vincent and Grenadines\n",
      "Saint Vincent and Grenadines\n",
      "Saint Vincent and Grenadines\n",
      "Saint Vincent and Grenadines\n",
      "Saint Vincent and Grenadines\n",
      "Saint Vincent and Grenadines\n",
      "Saint Vincent and Grenadines\n",
      "Saint Vincent and Grenadines\n",
      "Saint Vincent and Grenadines\n",
      "Saint Vincent and Grenadines\n",
      "Saint Vincent and Grenadines\n",
      "Saint Vincent and Grenadines\n",
      "Saint Vincent and Grenadines\n",
      "Saint Vincent and Grenadines\n",
      "Saint Vincent and Grenadines\n",
      "Saint Vincent and Grenadines\n",
      "Saint Vincent and Grenadines\n",
      "Saint Vincent and Grenadines\n",
      "Saint Vincent and Grenadines\n",
      "Saint Vincent and Grenadines\n",
      "Saint Vincent and Grenadines\n",
      "Saint Vincent and Grenadines\n",
      "Saint Vincent and Grenadines\n",
      "Saint Vincent and Grenadines\n",
      "Saint Vincent and Grenadines\n",
      "Saint Vincent and Grenadines\n",
      "Saint Vincent and Grenadines\n",
      "Saint Vincent and Grenadines\n",
      "Saint Vincent and Grenadines\n",
      "Saint Vincent and Grenadines\n",
      "Saint Vincent and Grenadines\n",
      "Saint Vincent and Grenadines\n",
      "Saint Vincent and Grenadines\n",
      "Saint Vincent and Grenadines\n",
      "Saint Vincent and Grenadines\n",
      "Saint Vincent and Grenadines\n",
      "Saint Vincent and Grenadines\n",
      "Saint Vincent and Grenadines\n",
      "Saint Vincent and Grenadines\n",
      "Saint Vincent and Grenadines\n",
      "Saint Vincent and Grenadines\n",
      "Saint Vincent and Grenadines\n",
      "Saint Vincent and Grenadines\n",
      "Saint Vincent and Grenadines\n",
      "Saint Vincent and Grenadines\n",
      "Saint Vincent and Grenadines\n",
      "Saint Vincent and Grenadines\n",
      "Saint Vincent and Grenadines\n",
      "Saint Vincent and Grenadines\n",
      "Saint Vincent and Grenadines\n",
      "Saint Vincent and Grenadines\n",
      "Saint Vincent and Grenadines\n",
      "Saint Vincent and Grenadines\n",
      "Saint Vincent and Grenadines\n",
      "Saint Vincent and Grenadines\n",
      "Saint Vincent and Grenadines\n",
      "Saint Vincent and Grenadines\n",
      "Saint Vincent and Grenadines\n",
      "Saint Vincent and Grenadines\n",
      "Saint Vincent and Grenadines\n",
      "Saint Vincent and Grenadines\n",
      "Saint Vincent and Grenadines\n",
      "Saint Vincent and Grenadines\n",
      "Saint Vincent and Grenadines\n",
      "Saint Vincent and Grenadines\n",
      "Saint Vincent and Grenadines\n",
      "Saint Vincent and Grenadines\n",
      "Saint Vincent and Grenadines\n",
      "Saint Vincent and Grenadines\n",
      "Saint Vincent and Grenadines\n",
      "Saint Vincent and Grenadines\n",
      "Saint Vincent and Grenadines\n",
      "Saint Vincent and Grenadines\n",
      "Saint Vincent and Grenadines\n",
      "Saint Vincent and Grenadines\n",
      "Saint Vincent and Grenadines\n",
      "Saint Vincent and Grenadines\n",
      "Saint Vincent and Grenadines\n",
      "Saint Vincent and Grenadines\n",
      "Saint Vincent and Grenadines\n",
      "Saint Vincent and Grenadines\n",
      "Saint Vincent and Grenadines\n",
      "Saint Vincent and Grenadines\n",
      "Saint Vincent and Grenadines\n",
      "Saint Vincent and Grenadines\n",
      "Saint Vincent and Grenadines\n",
      "Saint Vincent and Grenadines\n",
      "Saint Vincent and Grenadines\n",
      "Saint Vincent and Grenadines\n",
      "Saint Vincent and Grenadines\n",
      "Saint Vincent and Grenadines\n",
      "Saint Vincent and Grenadines\n",
      "Saint Vincent and Grenadines\n",
      "Saint Vincent and Grenadines\n",
      "Saint Vincent and Grenadines\n",
      "Saint Vincent and Grenadines\n",
      "Saint Vincent and Grenadines\n",
      "Saint Vincent and Grenadines\n",
      "Saint Vincent and Grenadines\n",
      "Saint Vincent and Grenadines\n",
      "Saint Vincent and Grenadines\n",
      "Saint Vincent and Grenadines\n",
      "Saint Vincent and Grenadines\n",
      "Saint Vincent and Grenadines\n",
      "Saint Vincent and Grenadines\n",
      "Saint Vincent and Grenadines\n",
      "Saint Vincent and Grenadines\n",
      "Saint Vincent and Grenadines\n",
      "Saint Vincent and Grenadines\n",
      "Saint Vincent and Grenadines\n",
      "Saint Vincent and Grenadines\n",
      "Saint Vincent and Grenadines\n",
      "Saint Vincent and Grenadines\n",
      "Saint Vincent and Grenadines\n",
      "Saint Vincent and Grenadines\n",
      "Saint Vincent and Grenadines\n",
      "Saint Vincent and Grenadines\n",
      "Saint Vincent and Grenadines\n",
      "Saint Vincent and Grenadines\n",
      "Saint Vincent and Grenadines\n",
      "Saint Vincent and Grenadines\n",
      "Saint Vincent and Grenadines\n",
      "Saint Vincent and Grenadines\n",
      "Saint Vincent and Grenadines\n",
      "Saint Vincent and Grenadines\n",
      "Saint Vincent and Grenadines\n",
      "Saint Vincent and Grenadines\n",
      "Saint Vincent and Grenadines\n",
      "Saint Vincent and Grenadines\n",
      "Saint Vincent and Grenadines\n",
      "Saint Vincent and Grenadines\n",
      "Saint Vincent and Grenadines\n",
      "Saint Vincent and Grenadines\n",
      "Saint Vincent and Grenadines\n",
      "Saint Vincent and Grenadines\n",
      "Saint Vincent and Grenadines\n",
      "Saint Vincent and Grenadines\n",
      "Saint Vincent and Grenadines\n",
      "Saint Vincent and Grenadines\n",
      "Saint Vincent and Grenadines\n",
      "Saint Vincent and Grenadines\n",
      "Saint Vincent and Grenadines\n",
      "Saint Vincent and Grenadines\n",
      "Saint Vincent and Grenadines\n",
      "Saint Vincent and Grenadines\n",
      "Saint Vincent and Grenadines\n",
      "Saint Vincent and Grenadines\n",
      "Saint Vincent and Grenadines\n",
      "Saint Vincent and Grenadines\n",
      "Saint Vincent and Grenadines\n",
      "Saint Vincent and Grenadines\n",
      "Saint Vincent and Grenadines\n",
      "Saint Vincent and Grenadines\n",
      "Saint Vincent and Grenadines\n",
      "Saint Vincent and Grenadines\n",
      "Saint Vincent and Grenadines\n",
      "Saint Vincent and Grenadines\n",
      "Saint Vincent and Grenadines\n",
      "Saint Vincent and Grenadines\n",
      "Saint Vincent and Grenadines\n",
      "Saint Vincent and Grenadines\n",
      "Saint Vincent and Grenadines\n",
      "Saint Vincent and Grenadines\n",
      "Saint Vincent and Grenadines\n",
      "Saint Vincent and Grenadines\n",
      "Saint Vincent and Grenadines\n",
      "Saint Vincent and Grenadines\n",
      "Saint Vincent and Grenadines\n",
      "Saint Vincent and Grenadines\n",
      "Saint Vincent and Grenadines\n",
      "Saint Vincent and Grenadines\n",
      "Saint Vincent and Grenadines\n",
      "Saint Vincent and Grenadines\n",
      "Saint Vincent and Grenadines\n",
      "Saint Vincent and Grenadines\n",
      "Saint Vincent and Grenadines\n",
      "Saint Vincent and Grenadines\n",
      "Saint Vincent and Grenadines\n",
      "Saint Vincent and Grenadines\n",
      "Saint Vincent and Grenadines\n",
      "Saint Vincent and Grenadines\n",
      "Saint Vincent and Grenadines\n",
      "Saint Vincent and Grenadines\n",
      "Saint Vincent and Grenadines\n",
      "Saint Vincent and Grenadines\n",
      "Saint Vincent and Grenadines\n",
      "Saint Vincent and Grenadines\n",
      "Saint Vincent and Grenadines\n",
      "Saint Vincent and Grenadines\n",
      "Saint Vincent and Grenadines\n",
      "Saint Vincent and Grenadines\n",
      "Saint Vincent and Grenadines\n",
      "Saint Vincent and Grenadines\n",
      "Saint Vincent and Grenadines\n",
      "Saint Vincent and Grenadines\n",
      "Saint Vincent and Grenadines\n",
      "Saint Vincent and Grenadines\n",
      "Saint Vincent and Grenadines\n",
      "Saint Vincent and Grenadines\n",
      "Saint Vincent and Grenadines\n",
      "Saint Vincent and Grenadines\n",
      "Saint Vincent and Grenadines\n"
     ]
    },
    {
     "name": "stderr",
     "output_type": "stream",
     "text": [
      "D:\\Spyder\\lib\\site-packages\\ipykernel_launcher.py:27: SettingWithCopyWarning:\n",
      "\n",
      "\n",
      "A value is trying to be set on a copy of a slice from a DataFrame\n",
      "\n",
      "See the caveats in the documentation: https://pandas.pydata.org/pandas-docs/stable/user_guide/indexing.html#returning-a-view-versus-a-copy\n",
      "\n"
     ]
    }
   ],
   "source": [
    "# Function to define the continent by country\n",
    "def country_to_continent(country_name):\n",
    "    country_alpha2 = pc.country_name_to_country_alpha2(country_name)\n",
    "    country_continent_code =pc.country_alpha2_to_continent_code(country_alpha2)\n",
    "    country_continent_name = pc.convert_continent_code_to_continent_name(country_continent_code)\n",
    "    return country_continent_name\n",
    "\n",
    "# Create a continent column\n",
    "raw_data['continent'] = ' '\n",
    "\n",
    "# Change the name of Republic of Korea to South Korea\n",
    "for i in range(len(raw_data['country'])):\n",
    "    if(raw_data['country'][i] == 'Republic of Korea'):\n",
    "       raw_data['country'][i] = 'South Korea' \n",
    "\n",
    "# Convert the name of the country to continent\n",
    "for i in range(len(raw_data['country'])):\n",
    "    try:\n",
    "        val = country_to_continent(raw_data['country'][i])\n",
    "        raw_data['continent'][i] = val\n",
    "    except:\n",
    "        print(raw_data['country'][i])\n",
    "        \n",
    "# Manually input Saint Vincent and Grenadines as part of North America\n",
    "for i in range(len(raw_data['country'])):\n",
    "    if raw_data['country'][i] == 'Saint Vincent and Grenadines':\n",
    "        raw_data['continent'][i] = 'North America'       "
   ]
  },
  {
   "cell_type": "code",
   "execution_count": 6,
   "metadata": {
    "collapsed": true
   },
   "outputs": [
    {
     "name": "stdout",
     "output_type": "stream",
     "text": [
      "Armenia2016 10\n",
      "Austria2016 10\n",
      "Croatia2016 10\n",
      "Cyprus2016 10\n",
      "Czech Republic2016 10\n",
      "Grenada2016 10\n",
      "Hungary2016 10\n",
      "Iceland2016 10\n",
      "Lithuania2016 10\n",
      "Mauritius2016 10\n",
      "Mongolia2016 10\n",
      "Netherlands2016 10\n",
      "Qatar2016 10\n",
      "Romania2016 10\n",
      "Sweden2016 10\n",
      "Thailand2016 10\n"
     ]
    }
   ],
   "source": [
    "# There are 6 age groups with 2 genders each. This should give us 12 age groups in total for each country.\n",
    "# There seem to be < 12 age groups for 2016 data. As a result, we will not include 2016 in our dataset\n",
    "raw_data.rename(columns = {'country-year':'countryyear'}, inplace = True)\n",
    "for i in range(len(raw_data['countryyear'].unique())):\n",
    "    val = raw_data.loc[raw_data.countryyear == raw_data['countryyear'].unique()[i], 'countryyear'].count()\n",
    "    if val < 12:\n",
    "        print(raw_data['countryyear'].unique()[i], val)\n",
    "\n",
    "# Remove all observations of countries in 2016\n",
    "raw_data = raw_data[~raw_data['year'].isin([2016])]"
   ]
  },
  {
   "cell_type": "code",
   "execution_count": 7,
   "metadata": {},
   "outputs": [],
   "source": [
    "# Remove countries that have less than 3 years of data or 36 observations\n",
    "# The following countries will be removed: \n",
    "# Bosnia and Herzegovina, Cabo Verde, Dominica, Macau, Mongolia, Oman, Saint Kitts and Nevis, San Marino\n",
    "group_data = raw_data.groupby('country').count()\n",
    "group_data[group_data['year'] <= 36]\n",
    "\n",
    "# Remove the countries\n",
    "raw_data = raw_data[~raw_data['country'].isin(['Bosnia and Herzegovina', 'Cabo Verde', 'Dominica', 'Macau','Mongolia',\n",
    "                                               'Oman','Saint Kitts and Nevis','San Marino'])]"
   ]
  },
  {
   "cell_type": "markdown",
   "metadata": {},
   "source": [
    "### 1.3 Key Insights"
   ]
  },
  {
   "cell_type": "markdown",
   "metadata": {},
   "source": [
    "- Suicide rates have been decreasing globally (2.1)\n",
    "- On average, suicide rate increases with age (2.4)\n",
    "- There is a weak relationship between a country's GDP and its suicide rate (2.9)"
   ]
  },
  {
   "cell_type": "markdown",
   "metadata": {},
   "source": [
    "## 2) Global Analysis"
   ]
  },
  {
   "cell_type": "markdown",
   "metadata": {},
   "source": [
    "### 2.1 Global Trend"
   ]
  },
  {
   "cell_type": "code",
   "execution_count": 139,
   "metadata": {},
   "outputs": [
    {
     "data": {
      "image/png": "[encoded data removed]",
      "text/plain": [
       "<Figure size 432x288 with 1 Axes>"
      ]
     },
     "metadata": {
      "needs_background": "light"
     },
     "output_type": "display_data"
    }
   ],
   "source": [
    "# Function that will groupby each column for visualization\n",
    "def groupbyfunc(column):\n",
    "    varname = raw_data.groupby(column).mean()\n",
    "    list1 = sorted(raw_data[column].unique())\n",
    "    varname[column] = list1\n",
    "    return varname\n",
    "\n",
    "# Create a dataset showing the trend by year\n",
    "global_trend = groupbyfunc('year')\n",
    "\n",
    "# Create a plot showing the average Global Suicides per 100K by year\n",
    "sns.scatterplot(data = global_trend, x = 'year', y = 'suicides/100k pop')\n",
    "sns.lineplot(data = global_trend, x = 'year', y = 'suicides/100k pop')\n",
    "plt.title('Global Suicides (per 100k)\\nTrend over time, 1985 - 2015', \n",
    "          fontsize = 14)\n",
    "plt.axhline(y = raw_data['suicides/100k pop'].mean(), color = 'b', \n",
    "            linestyle = '--')\n",
    "plt.show()"
   ]
  },
  {
   "cell_type": "code",
   "execution_count": 54,
   "metadata": {},
   "outputs": [
    {
     "name": "stdout",
     "output_type": "stream",
     "text": [
      "year\n",
      "2015    11.094073\n",
      "Name: suicides/100k pop, dtype: float64 15.662670940170946\n"
     ]
    }
   ],
   "source": [
    "max_rate = global_trend['suicides/100k pop'].max()\n",
    "print(global_trend[global_trend['year'] == 2015]['suicides/100k pop'],\n",
    "      global_trend['suicides/100k pop'].max())"
   ]
  },
  {
   "cell_type": "markdown",
   "metadata": {},
   "source": [
    "*The dashed line is the global average suicide rate from 1985 - 2015. This is calculated as 12.8 deaths (per 100k, per year)*\n",
    "\n",
    "**Insights**\n",
    "- Peak suicide rate was 15.6 deaths per 100k in 1995\n",
    "- This decreased steady to 11.09 deaths per 100k in 2015"
   ]
  },
  {
   "cell_type": "markdown",
   "metadata": {},
   "source": [
    "### 2.2) By Continent"
   ]
  },
  {
   "cell_type": "code",
   "execution_count": 9,
   "metadata": {},
   "outputs": [
    {
     "data": {
      "image/png": "[encoded data removed]",
      "text/plain": [
       "<Figure size 576x432 with 1 Axes>"
      ]
     },
     "metadata": {
      "needs_background": "light"
     },
     "output_type": "display_data"
    },
    {
     "data": {
      "image/png": "[encoded data removed]",
      "text/plain": [
       "<Figure size 1296x216 with 6 Axes>"
      ]
     },
     "metadata": {
      "needs_background": "light"
     },
     "output_type": "display_data"
    }
   ],
   "source": [
    "# Create a dataset showing the trend by continent\n",
    "continent_trend = groupbyfunc('continent')\n",
    "continent_trend = continent_trend.sort_values('suicides/100k pop', ascending = False)\n",
    "\n",
    "# Plot global suicides (per 100k) by continent\n",
    "plt.figure(figsize=(8,6))\n",
    "sns.barplot(data = continent_trend, x = 'continent',\n",
    "           y = 'suicides/100k pop')\n",
    "plt.title('Global Suicides (per 100k), by Continent')\n",
    "\n",
    "# Plot the trend of global suicides by continent over 1985-2015\n",
    "g = sns.FacetGrid(raw_data, col = 'continent')\n",
    "g = g.map(sns.lineplot, 'year','suicides/100k pop', ci = None)"
   ]
  },
  {
   "cell_type": "markdown",
   "metadata": {},
   "source": [
    "*Insights*\n",
    "\n",
    "- The European suicide rate is the highest overall but has steadily decreased since 1995\n",
    "- The large fluctuations in Africa is due to the poor quality of data provided by the countries\n",
    "- The trend in Oceania is more concerning"
   ]
  },
  {
   "cell_type": "markdown",
   "metadata": {},
   "source": [
    "### 2.3) By Sex"
   ]
  },
  {
   "cell_type": "code",
   "execution_count": 10,
   "metadata": {
    "scrolled": false
   },
   "outputs": [
    {
     "data": {
      "image/png": "[encoded data removed]",
      "text/plain": [
       "<Figure size 432x288 with 1 Axes>"
      ]
     },
     "metadata": {
      "needs_background": "light"
     },
     "output_type": "display_data"
    },
    {
     "data": {
      "image/png": "[encoded data removed]",
      "text/plain": [
       "<Figure size 432x216 with 2 Axes>"
      ]
     },
     "metadata": {
      "needs_background": "light"
     },
     "output_type": "display_data"
    }
   ],
   "source": [
    "# Create a dataset showing the trend by sex\n",
    "gender_trend = groupbyfunc('sex')\n",
    "\n",
    "# Show the visual for the boxplot\n",
    "sns.barplot(data = gender_trend, x = 'sex', y = 'suicides/100k pop')\n",
    "plt.title('Global Suicides (per 100k), by Sex', size = 14)\n",
    "\n",
    "# Plot the trend of global suicides by sex over 1985-2015\n",
    "g = sns.FacetGrid(raw_data, col = 'sex')\n",
    "g = g.map(sns.lineplot, 'year','suicides/100k pop', ci = None)\n"
   ]
  },
  {
   "cell_type": "markdown",
   "metadata": {},
   "source": [
    "*Insights*\n",
    "\n",
    "- The rate of suicide for men is much higher than women\n",
    "- Both male and female suicide rates peaked in 1995 and have been declining"
   ]
  },
  {
   "cell_type": "markdown",
   "metadata": {},
   "source": [
    "### 2.4) By Age"
   ]
  },
  {
   "cell_type": "code",
   "execution_count": 11,
   "metadata": {},
   "outputs": [
    {
     "data": {
      "image/png": "[encoded data removed]",
      "text/plain": [
       "<Figure size 576x360 with 1 Axes>"
      ]
     },
     "metadata": {
      "needs_background": "light"
     },
     "output_type": "display_data"
    },
    {
     "data": {
      "image/png": "[encoded data removed]",
      "text/plain": [
       "<Figure size 1296x216 with 6 Axes>"
      ]
     },
     "metadata": {
      "needs_background": "light"
     },
     "output_type": "display_data"
    }
   ],
   "source": [
    "# Create a dataset showing the trend by age\n",
    "age_trend = groupbyfunc('age')\n",
    "age_trend = age_trend.sort_values('suicides/100k pop', ascending = False)\n",
    "\n",
    "# Show the visual for the boxplot\n",
    "plt.figure(figsize=(8,5))\n",
    "sns.barplot(data = age_trend, x = 'age', y = 'suicides/100k pop')\n",
    "plt.title('Global Suicides (per 100k), by Age', size = 14)\n",
    "\n",
    "# Plot the trend of global suicides by age over 1985-2015\n",
    "g = sns.FacetGrid(raw_data, col = 'age')\n",
    "g = g.map(sns.lineplot, 'year','suicides/100k pop', ci = None)"
   ]
  },
  {
   "cell_type": "markdown",
   "metadata": {},
   "source": [
    "*Insights*\n",
    "\n",
    "- Globally, the likelihood of suicide increases with age\n",
    "- The suicide rate in the '5-14' age category remains small\n"
   ]
  },
  {
   "cell_type": "markdown",
   "metadata": {},
   "source": [
    "### 2.5) By Country"
   ]
  },
  {
   "cell_type": "code",
   "execution_count": 12,
   "metadata": {
    "scrolled": false
   },
   "outputs": [
    {
     "name": "stderr",
     "output_type": "stream",
     "text": [
      "D:\\Spyder\\lib\\site-packages\\ipykernel_launcher.py:10: SettingWithCopyWarning:\n",
      "\n",
      "\n",
      "A value is trying to be set on a copy of a slice from a DataFrame\n",
      "\n",
      "See the caveats in the documentation: https://pandas.pydata.org/pandas-docs/stable/user_guide/indexing.html#returning-a-view-versus-a-copy\n",
      "\n"
     ]
    },
    {
     "data": {
      "text/plain": [
       "<matplotlib.lines.Line2D at 0x285985c5048>"
      ]
     },
     "execution_count": 12,
     "metadata": {},
     "output_type": "execute_result"
    },
    {
     "data": {
      "image/png": "[encoded data removed]",
      "text/plain": [
       "<Figure size 576x1440 with 1 Axes>"
      ]
     },
     "metadata": {
      "needs_background": "light"
     },
     "output_type": "display_data"
    }
   ],
   "source": [
    "# Create a dataset showing the trend by country\n",
    "country_trend = groupbyfunc('country')\n",
    "\n",
    "# Add the continent column\n",
    "df1 = raw_data[['country','continent']]\n",
    "df1 = df1.drop_duplicates()\n",
    "df1.reset_index(drop=True, inplace=True)\n",
    "country_trend['continent'] = ''\n",
    "for i in range(len(country_trend['country'])):\n",
    "    country_trend['continent'][i] = df1['continent'][i]\n",
    "\n",
    "# Plot barplot using country and continent\n",
    "country_trend = country_trend.sort_values('suicides/100k pop', ascending = False).reset_index(drop = True)\n",
    "plt.figure(figsize=(8,20))\n",
    "ax = sns.barplot(data = country_trend, x = 'suicides/100k pop', y = 'country', hue = 'continent', dodge = False)\n",
    "plt.axvline(x = raw_data['suicides/100k pop'].mean(), color = 'b', linestyle = '--')"
   ]
  },
  {
   "cell_type": "markdown",
   "metadata": {},
   "source": [
    "*Insights*\n",
    "\n",
    "- Lithuania's rate has been the highest by a large margin\n",
    "- There is a high number of European countries with high rates.\n",
    "- We also see many Asian countries with low suicide rates"
   ]
  },
  {
   "cell_type": "markdown",
   "metadata": {},
   "source": [
    "Below is a geographical heat map of the suicide rates between 1985 to 2015. Please note that there is a lack of data for Africa and Asia. Also, as discussed previously, we have removed 7 countries due to insufficient data."
   ]
  },
  {
   "cell_type": "code",
   "execution_count": 13,
   "metadata": {},
   "outputs": [
    {
     "data": {
      "application/vnd.plotly.v1+json": {
       "config": {
        "linkText": "Export to plot.ly",
        "plotlyServerURL": "https://plot.ly",
        "showLink": false
       },
       "data": [
        {
         "colorbar": {
          "title": {
           "text": "Suicides / 100k Population"
          }
         },
         "locationmode": "country names",
         "locations": [
          "Lithuania",
          "Sri Lanka",
          "Russian Federation",
          "Hungary",
          "Belarus",
          "Kazakhstan",
          "Latvia",
          "Slovenia",
          "Estonia",
          "Ukraine",
          "South Korea",
          "Austria",
          "Croatia",
          "Finland",
          "Guyana",
          "Serbia",
          "France",
          "Japan",
          "Suriname",
          "Belgium",
          "Cuba",
          "Bulgaria",
          "Uruguay",
          "Switzerland",
          "Czech Republic",
          "Singapore",
          "Luxembourg",
          "Germany",
          "Poland",
          "Sweden",
          "New Zealand",
          "Kyrgyzstan",
          "Denmark",
          "Trinidad and Tobago",
          "United States",
          "Australia",
          "Norway",
          "Iceland",
          "Slovakia",
          "Romania",
          "Canada",
          "Mauritius",
          "Portugal",
          "Ireland",
          "Netherlands",
          "Chile",
          "El Salvador",
          "Argentina",
          "Puerto Rico",
          "Montenegro",
          "Aruba",
          "Spain",
          "Israel",
          "Turkmenistan",
          "Italy",
          "Uzbekistan",
          "United Kingdom",
          "Seychelles",
          "Saint Lucia",
          "Costa Rica",
          "Thailand",
          "Kiribati",
          "Nicaragua",
          "Ecuador",
          "Belize",
          "Brazil",
          "Panama",
          "Saint Vincent and Grenadines",
          "Colombia",
          "Fiji",
          "Malta",
          "Mexico",
          "Georgia",
          "Paraguay",
          "Greece",
          "Albania",
          "Armenia",
          "Cyprus",
          "Guatemala",
          "Barbados",
          "Philippines",
          "Turkey",
          "Grenada",
          "Azerbaijan",
          "Bahrain",
          "Qatar",
          "Maldives",
          "United Arab Emirates",
          "Bahamas",
          "Kuwait",
          "South Africa",
          "Antigua and Barbuda",
          "Jamaica"
         ],
         "text": [
          "Lithuania",
          "Sri Lanka",
          "Russian Federation",
          "Hungary",
          "Belarus",
          "Kazakhstan",
          "Latvia",
          "Slovenia",
          "Estonia",
          "Ukraine",
          "South Korea",
          "Austria",
          "Croatia",
          "Finland",
          "Guyana",
          "Serbia",
          "France",
          "Japan",
          "Suriname",
          "Belgium",
          "Cuba",
          "Bulgaria",
          "Uruguay",
          "Switzerland",
          "Czech Republic",
          "Singapore",
          "Luxembourg",
          "Germany",
          "Poland",
          "Sweden",
          "New Zealand",
          "Kyrgyzstan",
          "Denmark",
          "Trinidad and Tobago",
          "United States",
          "Australia",
          "Norway",
          "Iceland",
          "Slovakia",
          "Romania",
          "Canada",
          "Mauritius",
          "Portugal",
          "Ireland",
          "Netherlands",
          "Chile",
          "El Salvador",
          "Argentina",
          "Puerto Rico",
          "Montenegro",
          "Aruba",
          "Spain",
          "Israel",
          "Turkmenistan",
          "Italy",
          "Uzbekistan",
          "United Kingdom",
          "Seychelles",
          "Saint Lucia",
          "Costa Rica",
          "Thailand",
          "Kiribati",
          "Nicaragua",
          "Ecuador",
          "Belize",
          "Brazil",
          "Panama",
          "Saint Vincent and Grenadines",
          "Colombia",
          "Fiji",
          "Malta",
          "Mexico",
          "Georgia",
          "Paraguay",
          "Greece",
          "Albania",
          "Armenia",
          "Cyprus",
          "Guatemala",
          "Barbados",
          "Philippines",
          "Turkey",
          "Grenada",
          "Azerbaijan",
          "Bahrain",
          "Qatar",
          "Maldives",
          "United Arab Emirates",
          "Bahamas",
          "Kuwait",
          "South Africa",
          "Antigua and Barbuda",
          "Jamaica"
         ],
         "type": "choropleth",
         "z": [
          40.583968253968244,
          35.2951515151515,
          34.8923765432099,
          33.04909999999998,
          31.07591269841269,
          30.511282051282034,
          29.259325396825414,
          27.82785714285713,
          27.276904761904763,
          26.582321428571408,
          25.13561827956988,
          23.90591397849462,
          22.893968253968254,
          22.77043103448276,
          22.186399999999995,
          22.164120370370373,
          21.67569444444445,
          21.57319892473118,
          21.316428571428563,
          21.237903225806463,
          21.222048611111124,
          19.489111111111132,
          19.461190476190477,
          19.02408730158731,
          18.561634615384598,
          17.045645161290317,
          16.549892473118266,
          15.559903846153842,
          15.269513888888895,
          14.6806896551724,
          14.39172413793105,
          14.286217948717962,
          14.097159090909077,
          13.825648148148135,
          13.819811827956993,
          12.992805555555568,
          12.941000000000003,
          12.773306451612905,
          12.568787878787877,
          12.516111111111115,
          12.467586206896545,
          11.734623655913973,
          11.33753086419753,
          10.78258333333333,
          10.58905913978494,
          10.54204301075269,
          10.54145833333334,
          10.46932795698924,
          10.186236559139779,
          9.950249999999999,
          9.503095238095236,
          9.432956989247316,
          8.951532258064514,
          8.605545977011497,
          8.518467741935483,
          8.09912878787879,
          7.502473118279568,
          7.480092592592594,
          7.202738095238099,
          7.093666666666661,
          7.053549382716049,
          6.65537878787879,
          6.566944444444445,
          6.304327956989245,
          6.230625000000003,
          5.846021505376345,
          5.81353333333333,
          5.7554333333333325,
          5.401586021505377,
          5.105000000000001,
          5.032284946236558,
          4.7075,
          4.2287121212121175,
          4.217191358024693,
          4.064838709677418,
          3.5028787878787875,
          3.2487847222222226,
          3.2089880952380945,
          3.1852777777777765,
          2.970433333333334,
          2.421277777777778,
          2.371071428571429,
          2.203333333333333,
          1.8554166666666676,
          1.8541269841269843,
          1.7959523809523799,
          1.3673333333333335,
          1.3179166666666662,
          1.2473913043478262,
          1.1864333333333337,
          0.9645416666666666,
          0.5529012345679012,
          0.5217647058823529
         ]
        }
       ],
       "layout": {
        "geo": {
         "showframe": false
        },
        "template": {
         "data": {
          "bar": [
           {
            "error_x": {
             "color": "#2a3f5f"
            },
            "error_y": {
             "color": "#2a3f5f"
            },
            "marker": {
             "line": {
              "color": "#E5ECF6",
              "width": 0.5
             }
            },
            "type": "bar"
           }
          ],
          "barpolar": [
           {
            "marker": {
             "line": {
              "color": "#E5ECF6",
              "width": 0.5
             }
            },
            "type": "barpolar"
           }
          ],
          "carpet": [
           {
            "aaxis": {
             "endlinecolor": "#2a3f5f",
             "gridcolor": "white",
             "linecolor": "white",
             "minorgridcolor": "white",
             "startlinecolor": "#2a3f5f"
            },
            "baxis": {
             "endlinecolor": "#2a3f5f",
             "gridcolor": "white",
             "linecolor": "white",
             "minorgridcolor": "white",
             "startlinecolor": "#2a3f5f"
            },
            "type": "carpet"
           }
          ],
          "choropleth": [
           {
            "colorbar": {
             "outlinewidth": 0,
             "ticks": ""
            },
            "type": "choropleth"
           }
          ],
          "contour": [
           {
            "colorbar": {
             "outlinewidth": 0,
             "ticks": ""
            },
            "colorscale": [
             [
              0,
              "#0d0887"
             ],
             [
              0.1111111111111111,
              "#46039f"
             ],
             [
              0.2222222222222222,
              "#7201a8"
             ],
             [
              0.3333333333333333,
              "#9c179e"
             ],
             [
              0.4444444444444444,
              "#bd3786"
             ],
             [
              0.5555555555555556,
              "#d8576b"
             ],
             [
              0.6666666666666666,
              "#ed7953"
             ],
             [
              0.7777777777777778,
              "#fb9f3a"
             ],
             [
              0.8888888888888888,
              "#fdca26"
             ],
             [
              1,
              "#f0f921"
             ]
            ],
            "type": "contour"
           }
          ],
          "contourcarpet": [
           {
            "colorbar": {
             "outlinewidth": 0,
             "ticks": ""
            },
            "type": "contourcarpet"
           }
          ],
          "heatmap": [
           {
            "colorbar": {
             "outlinewidth": 0,
             "ticks": ""
            },
            "colorscale": [
             [
              0,
              "#0d0887"
             ],
             [
              0.1111111111111111,
              "#46039f"
             ],
             [
              0.2222222222222222,
              "#7201a8"
             ],
             [
              0.3333333333333333,
              "#9c179e"
             ],
             [
              0.4444444444444444,
              "#bd3786"
             ],
             [
              0.5555555555555556,
              "#d8576b"
             ],
             [
              0.6666666666666666,
              "#ed7953"
             ],
             [
              0.7777777777777778,
              "#fb9f3a"
             ],
             [
              0.8888888888888888,
              "#fdca26"
             ],
             [
              1,
              "#f0f921"
             ]
            ],
            "type": "heatmap"
           }
          ],
          "heatmapgl": [
           {
            "colorbar": {
             "outlinewidth": 0,
             "ticks": ""
            },
            "colorscale": [
             [
              0,
              "#0d0887"
             ],
             [
              0.1111111111111111,
              "#46039f"
             ],
             [
              0.2222222222222222,
              "#7201a8"
             ],
             [
              0.3333333333333333,
              "#9c179e"
             ],
             [
              0.4444444444444444,
              "#bd3786"
             ],
             [
              0.5555555555555556,
              "#d8576b"
             ],
             [
              0.6666666666666666,
              "#ed7953"
             ],
             [
              0.7777777777777778,
              "#fb9f3a"
             ],
             [
              0.8888888888888888,
              "#fdca26"
             ],
             [
              1,
              "#f0f921"
             ]
            ],
            "type": "heatmapgl"
           }
          ],
          "histogram": [
           {
            "marker": {
             "colorbar": {
              "outlinewidth": 0,
              "ticks": ""
             }
            },
            "type": "histogram"
           }
          ],
          "histogram2d": [
           {
            "colorbar": {
             "outlinewidth": 0,
             "ticks": ""
            },
            "colorscale": [
             [
              0,
              "#0d0887"
             ],
             [
              0.1111111111111111,
              "#46039f"
             ],
             [
              0.2222222222222222,
              "#7201a8"
             ],
             [
              0.3333333333333333,
              "#9c179e"
             ],
             [
              0.4444444444444444,
              "#bd3786"
             ],
             [
              0.5555555555555556,
              "#d8576b"
             ],
             [
              0.6666666666666666,
              "#ed7953"
             ],
             [
              0.7777777777777778,
              "#fb9f3a"
             ],
             [
              0.8888888888888888,
              "#fdca26"
             ],
             [
              1,
              "#f0f921"
             ]
            ],
            "type": "histogram2d"
           }
          ],
          "histogram2dcontour": [
           {
            "colorbar": {
             "outlinewidth": 0,
             "ticks": ""
            },
            "colorscale": [
             [
              0,
              "#0d0887"
             ],
             [
              0.1111111111111111,
              "#46039f"
             ],
             [
              0.2222222222222222,
              "#7201a8"
             ],
             [
              0.3333333333333333,
              "#9c179e"
             ],
             [
              0.4444444444444444,
              "#bd3786"
             ],
             [
              0.5555555555555556,
              "#d8576b"
             ],
             [
              0.6666666666666666,
              "#ed7953"
             ],
             [
              0.7777777777777778,
              "#fb9f3a"
             ],
             [
              0.8888888888888888,
              "#fdca26"
             ],
             [
              1,
              "#f0f921"
             ]
            ],
            "type": "histogram2dcontour"
           }
          ],
          "mesh3d": [
           {
            "colorbar": {
             "outlinewidth": 0,
             "ticks": ""
            },
            "type": "mesh3d"
           }
          ],
          "parcoords": [
           {
            "line": {
             "colorbar": {
              "outlinewidth": 0,
              "ticks": ""
             }
            },
            "type": "parcoords"
           }
          ],
          "pie": [
           {
            "automargin": true,
            "type": "pie"
           }
          ],
          "scatter": [
           {
            "marker": {
             "colorbar": {
              "outlinewidth": 0,
              "ticks": ""
             }
            },
            "type": "scatter"
           }
          ],
          "scatter3d": [
           {
            "line": {
             "colorbar": {
              "outlinewidth": 0,
              "ticks": ""
             }
            },
            "marker": {
             "colorbar": {
              "outlinewidth": 0,
              "ticks": ""
             }
            },
            "type": "scatter3d"
           }
          ],
          "scattercarpet": [
           {
            "marker": {
             "colorbar": {
              "outlinewidth": 0,
              "ticks": ""
             }
            },
            "type": "scattercarpet"
           }
          ],
          "scattergeo": [
           {
            "marker": {
             "colorbar": {
              "outlinewidth": 0,
              "ticks": ""
             }
            },
            "type": "scattergeo"
           }
          ],
          "scattergl": [
           {
            "marker": {
             "colorbar": {
              "outlinewidth": 0,
              "ticks": ""
             }
            },
            "type": "scattergl"
           }
          ],
          "scattermapbox": [
           {
            "marker": {
             "colorbar": {
              "outlinewidth": 0,
              "ticks": ""
             }
            },
            "type": "scattermapbox"
           }
          ],
          "scatterpolar": [
           {
            "marker": {
             "colorbar": {
              "outlinewidth": 0,
              "ticks": ""
             }
            },
            "type": "scatterpolar"
           }
          ],
          "scatterpolargl": [
           {
            "marker": {
             "colorbar": {
              "outlinewidth": 0,
              "ticks": ""
             }
            },
            "type": "scatterpolargl"
           }
          ],
          "scatterternary": [
           {
            "marker": {
             "colorbar": {
              "outlinewidth": 0,
              "ticks": ""
             }
            },
            "type": "scatterternary"
           }
          ],
          "surface": [
           {
            "colorbar": {
             "outlinewidth": 0,
             "ticks": ""
            },
            "colorscale": [
             [
              0,
              "#0d0887"
             ],
             [
              0.1111111111111111,
              "#46039f"
             ],
             [
              0.2222222222222222,
              "#7201a8"
             ],
             [
              0.3333333333333333,
              "#9c179e"
             ],
             [
              0.4444444444444444,
              "#bd3786"
             ],
             [
              0.5555555555555556,
              "#d8576b"
             ],
             [
              0.6666666666666666,
              "#ed7953"
             ],
             [
              0.7777777777777778,
              "#fb9f3a"
             ],
             [
              0.8888888888888888,
              "#fdca26"
             ],
             [
              1,
              "#f0f921"
             ]
            ],
            "type": "surface"
           }
          ],
          "table": [
           {
            "cells": {
             "fill": {
              "color": "#EBF0F8"
             },
             "line": {
              "color": "white"
             }
            },
            "header": {
             "fill": {
              "color": "#C8D4E3"
             },
             "line": {
              "color": "white"
             }
            },
            "type": "table"
           }
          ]
         },
         "layout": {
          "annotationdefaults": {
           "arrowcolor": "#2a3f5f",
           "arrowhead": 0,
           "arrowwidth": 1
          },
          "coloraxis": {
           "colorbar": {
            "outlinewidth": 0,
            "ticks": ""
           }
          },
          "colorscale": {
           "diverging": [
            [
             0,
             "#8e0152"
            ],
            [
             0.1,
             "#c51b7d"
            ],
            [
             0.2,
             "#de77ae"
            ],
            [
             0.3,
             "#f1b6da"
            ],
            [
             0.4,
             "#fde0ef"
            ],
            [
             0.5,
             "#f7f7f7"
            ],
            [
             0.6,
             "#e6f5d0"
            ],
            [
             0.7,
             "#b8e186"
            ],
            [
             0.8,
             "#7fbc41"
            ],
            [
             0.9,
             "#4d9221"
            ],
            [
             1,
             "#276419"
            ]
           ],
           "sequential": [
            [
             0,
             "#0d0887"
            ],
            [
             0.1111111111111111,
             "#46039f"
            ],
            [
             0.2222222222222222,
             "#7201a8"
            ],
            [
             0.3333333333333333,
             "#9c179e"
            ],
            [
             0.4444444444444444,
             "#bd3786"
            ],
            [
             0.5555555555555556,
             "#d8576b"
            ],
            [
             0.6666666666666666,
             "#ed7953"
            ],
            [
             0.7777777777777778,
             "#fb9f3a"
            ],
            [
             0.8888888888888888,
             "#fdca26"
            ],
            [
             1,
             "#f0f921"
            ]
           ],
           "sequentialminus": [
            [
             0,
             "#0d0887"
            ],
            [
             0.1111111111111111,
             "#46039f"
            ],
            [
             0.2222222222222222,
             "#7201a8"
            ],
            [
             0.3333333333333333,
             "#9c179e"
            ],
            [
             0.4444444444444444,
             "#bd3786"
            ],
            [
             0.5555555555555556,
             "#d8576b"
            ],
            [
             0.6666666666666666,
             "#ed7953"
            ],
            [
             0.7777777777777778,
             "#fb9f3a"
            ],
            [
             0.8888888888888888,
             "#fdca26"
            ],
            [
             1,
             "#f0f921"
            ]
           ]
          },
          "colorway": [
           "#636efa",
           "#EF553B",
           "#00cc96",
           "#ab63fa",
           "#FFA15A",
           "#19d3f3",
           "#FF6692",
           "#B6E880",
           "#FF97FF",
           "#FECB52"
          ],
          "font": {
           "color": "#2a3f5f"
          },
          "geo": {
           "bgcolor": "white",
           "lakecolor": "white",
           "landcolor": "#E5ECF6",
           "showlakes": true,
           "showland": true,
           "subunitcolor": "white"
          },
          "hoverlabel": {
           "align": "left"
          },
          "hovermode": "closest",
          "mapbox": {
           "style": "light"
          },
          "paper_bgcolor": "white",
          "plot_bgcolor": "#E5ECF6",
          "polar": {
           "angularaxis": {
            "gridcolor": "white",
            "linecolor": "white",
            "ticks": ""
           },
           "bgcolor": "#E5ECF6",
           "radialaxis": {
            "gridcolor": "white",
            "linecolor": "white",
            "ticks": ""
           }
          },
          "scene": {
           "xaxis": {
            "backgroundcolor": "#E5ECF6",
            "gridcolor": "white",
            "gridwidth": 2,
            "linecolor": "white",
            "showbackground": true,
            "ticks": "",
            "zerolinecolor": "white"
           },
           "yaxis": {
            "backgroundcolor": "#E5ECF6",
            "gridcolor": "white",
            "gridwidth": 2,
            "linecolor": "white",
            "showbackground": true,
            "ticks": "",
            "zerolinecolor": "white"
           },
           "zaxis": {
            "backgroundcolor": "#E5ECF6",
            "gridcolor": "white",
            "gridwidth": 2,
            "linecolor": "white",
            "showbackground": true,
            "ticks": "",
            "zerolinecolor": "white"
           }
          },
          "shapedefaults": {
           "line": {
            "color": "#2a3f5f"
           }
          },
          "ternary": {
           "aaxis": {
            "gridcolor": "white",
            "linecolor": "white",
            "ticks": ""
           },
           "baxis": {
            "gridcolor": "white",
            "linecolor": "white",
            "ticks": ""
           },
           "bgcolor": "#E5ECF6",
           "caxis": {
            "gridcolor": "white",
            "linecolor": "white",
            "ticks": ""
           }
          },
          "title": {
           "x": 0.05
          },
          "xaxis": {
           "automargin": true,
           "gridcolor": "white",
           "linecolor": "white",
           "ticks": "",
           "title": {
            "standoff": 15
           },
           "zerolinecolor": "white",
           "zerolinewidth": 2
          },
          "yaxis": {
           "automargin": true,
           "gridcolor": "white",
           "linecolor": "white",
           "ticks": "",
           "title": {
            "standoff": 15
           },
           "zerolinecolor": "white",
           "zerolinewidth": 2
          }
         }
        },
        "title": {
         "text": "Suicides / 100k Population"
        }
       }
      },
      "text/html": [
       "<div>\n",
       "        \n",
       "        \n",
       "            <div id=\"69849b64-6407-4431-a535-4f7350034862\" class=\"plotly-graph-div\" style=\"height:525px; width:100%;\"></div>\n",
       "            <script type=\"text/javascript\">\n",
       "                require([\"plotly\"], function(Plotly) {\n",
       "                    window.PLOTLYENV=window.PLOTLYENV || {};\n",
       "                    \n",
       "                if (document.getElementById(\"69849b64-6407-4431-a535-4f7350034862\")) {\n",
       "                    Plotly.newPlot(\n",
       "                        '69849b64-6407-4431-a535-4f7350034862',\n",
       "                        [{\"colorbar\": {\"title\": {\"text\": \"Suicides / 100k Population\"}}, \"locationmode\": \"country names\", \"locations\": [\"Lithuania\", \"Sri Lanka\", \"Russian Federation\", \"Hungary\", \"Belarus\", \"Kazakhstan\", \"Latvia\", \"Slovenia\", \"Estonia\", \"Ukraine\", \"South Korea\", \"Austria\", \"Croatia\", \"Finland\", \"Guyana\", \"Serbia\", \"France\", \"Japan\", \"Suriname\", \"Belgium\", \"Cuba\", \"Bulgaria\", \"Uruguay\", \"Switzerland\", \"Czech Republic\", \"Singapore\", \"Luxembourg\", \"Germany\", \"Poland\", \"Sweden\", \"New Zealand\", \"Kyrgyzstan\", \"Denmark\", \"Trinidad and Tobago\", \"United States\", \"Australia\", \"Norway\", \"Iceland\", \"Slovakia\", \"Romania\", \"Canada\", \"Mauritius\", \"Portugal\", \"Ireland\", \"Netherlands\", \"Chile\", \"El Salvador\", \"Argentina\", \"Puerto Rico\", \"Montenegro\", \"Aruba\", \"Spain\", \"Israel\", \"Turkmenistan\", \"Italy\", \"Uzbekistan\", \"United Kingdom\", \"Seychelles\", \"Saint Lucia\", \"Costa Rica\", \"Thailand\", \"Kiribati\", \"Nicaragua\", \"Ecuador\", \"Belize\", \"Brazil\", \"Panama\", \"Saint Vincent and Grenadines\", \"Colombia\", \"Fiji\", \"Malta\", \"Mexico\", \"Georgia\", \"Paraguay\", \"Greece\", \"Albania\", \"Armenia\", \"Cyprus\", \"Guatemala\", \"Barbados\", \"Philippines\", \"Turkey\", \"Grenada\", \"Azerbaijan\", \"Bahrain\", \"Qatar\", \"Maldives\", \"United Arab Emirates\", \"Bahamas\", \"Kuwait\", \"South Africa\", \"Antigua and Barbuda\", \"Jamaica\"], \"text\": [\"Lithuania\", \"Sri Lanka\", \"Russian Federation\", \"Hungary\", \"Belarus\", \"Kazakhstan\", \"Latvia\", \"Slovenia\", \"Estonia\", \"Ukraine\", \"South Korea\", \"Austria\", \"Croatia\", \"Finland\", \"Guyana\", \"Serbia\", \"France\", \"Japan\", \"Suriname\", \"Belgium\", \"Cuba\", \"Bulgaria\", \"Uruguay\", \"Switzerland\", \"Czech Republic\", \"Singapore\", \"Luxembourg\", \"Germany\", \"Poland\", \"Sweden\", \"New Zealand\", \"Kyrgyzstan\", \"Denmark\", \"Trinidad and Tobago\", \"United States\", \"Australia\", \"Norway\", \"Iceland\", \"Slovakia\", \"Romania\", \"Canada\", \"Mauritius\", \"Portugal\", \"Ireland\", \"Netherlands\", \"Chile\", \"El Salvador\", \"Argentina\", \"Puerto Rico\", \"Montenegro\", \"Aruba\", \"Spain\", \"Israel\", \"Turkmenistan\", \"Italy\", \"Uzbekistan\", \"United Kingdom\", \"Seychelles\", \"Saint Lucia\", \"Costa Rica\", \"Thailand\", \"Kiribati\", \"Nicaragua\", \"Ecuador\", \"Belize\", \"Brazil\", \"Panama\", \"Saint Vincent and Grenadines\", \"Colombia\", \"Fiji\", \"Malta\", \"Mexico\", \"Georgia\", \"Paraguay\", \"Greece\", \"Albania\", \"Armenia\", \"Cyprus\", \"Guatemala\", \"Barbados\", \"Philippines\", \"Turkey\", \"Grenada\", \"Azerbaijan\", \"Bahrain\", \"Qatar\", \"Maldives\", \"United Arab Emirates\", \"Bahamas\", \"Kuwait\", \"South Africa\", \"Antigua and Barbuda\", \"Jamaica\"], \"type\": \"choropleth\", \"z\": [40.583968253968244, 35.2951515151515, 34.8923765432099, 33.04909999999998, 31.07591269841269, 30.511282051282034, 29.259325396825414, 27.82785714285713, 27.276904761904763, 26.582321428571408, 25.13561827956988, 23.90591397849462, 22.893968253968254, 22.77043103448276, 22.186399999999995, 22.164120370370373, 21.67569444444445, 21.57319892473118, 21.316428571428563, 21.237903225806463, 21.222048611111124, 19.489111111111132, 19.461190476190477, 19.02408730158731, 18.561634615384598, 17.045645161290317, 16.549892473118266, 15.559903846153842, 15.269513888888895, 14.6806896551724, 14.39172413793105, 14.286217948717962, 14.097159090909077, 13.825648148148135, 13.819811827956993, 12.992805555555568, 12.941000000000003, 12.773306451612905, 12.568787878787877, 12.516111111111115, 12.467586206896545, 11.734623655913973, 11.33753086419753, 10.78258333333333, 10.58905913978494, 10.54204301075269, 10.54145833333334, 10.46932795698924, 10.186236559139779, 9.950249999999999, 9.503095238095236, 9.432956989247316, 8.951532258064514, 8.605545977011497, 8.518467741935483, 8.09912878787879, 7.502473118279568, 7.480092592592594, 7.202738095238099, 7.093666666666661, 7.053549382716049, 6.65537878787879, 6.566944444444445, 6.304327956989245, 6.230625000000003, 5.846021505376345, 5.81353333333333, 5.7554333333333325, 5.401586021505377, 5.105000000000001, 5.032284946236558, 4.7075, 4.2287121212121175, 4.217191358024693, 4.064838709677418, 3.5028787878787875, 3.2487847222222226, 3.2089880952380945, 3.1852777777777765, 2.970433333333334, 2.421277777777778, 2.371071428571429, 2.203333333333333, 1.8554166666666676, 1.8541269841269843, 1.7959523809523799, 1.3673333333333335, 1.3179166666666662, 1.2473913043478262, 1.1864333333333337, 0.9645416666666666, 0.5529012345679012, 0.5217647058823529]}],\n",
       "                        {\"geo\": {\"showframe\": false}, \"template\": {\"data\": {\"bar\": [{\"error_x\": {\"color\": \"#2a3f5f\"}, \"error_y\": {\"color\": \"#2a3f5f\"}, \"marker\": {\"line\": {\"color\": \"#E5ECF6\", \"width\": 0.5}}, \"type\": \"bar\"}], \"barpolar\": [{\"marker\": {\"line\": {\"color\": \"#E5ECF6\", \"width\": 0.5}}, \"type\": \"barpolar\"}], \"carpet\": [{\"aaxis\": {\"endlinecolor\": \"#2a3f5f\", \"gridcolor\": \"white\", \"linecolor\": \"white\", \"minorgridcolor\": \"white\", \"startlinecolor\": \"#2a3f5f\"}, \"baxis\": {\"endlinecolor\": \"#2a3f5f\", \"gridcolor\": \"white\", \"linecolor\": \"white\", \"minorgridcolor\": \"white\", \"startlinecolor\": \"#2a3f5f\"}, \"type\": \"carpet\"}], \"choropleth\": [{\"colorbar\": {\"outlinewidth\": 0, \"ticks\": \"\"}, \"type\": \"choropleth\"}], \"contour\": [{\"colorbar\": {\"outlinewidth\": 0, \"ticks\": \"\"}, \"colorscale\": [[0.0, \"#0d0887\"], [0.1111111111111111, \"#46039f\"], [0.2222222222222222, \"#7201a8\"], [0.3333333333333333, \"#9c179e\"], [0.4444444444444444, \"#bd3786\"], [0.5555555555555556, \"#d8576b\"], [0.6666666666666666, \"#ed7953\"], [0.7777777777777778, \"#fb9f3a\"], [0.8888888888888888, \"#fdca26\"], [1.0, \"#f0f921\"]], \"type\": \"contour\"}], \"contourcarpet\": [{\"colorbar\": {\"outlinewidth\": 0, \"ticks\": \"\"}, \"type\": \"contourcarpet\"}], \"heatmap\": [{\"colorbar\": {\"outlinewidth\": 0, \"ticks\": \"\"}, \"colorscale\": [[0.0, \"#0d0887\"], [0.1111111111111111, \"#46039f\"], [0.2222222222222222, \"#7201a8\"], [0.3333333333333333, \"#9c179e\"], [0.4444444444444444, \"#bd3786\"], [0.5555555555555556, \"#d8576b\"], [0.6666666666666666, \"#ed7953\"], [0.7777777777777778, \"#fb9f3a\"], [0.8888888888888888, \"#fdca26\"], [1.0, \"#f0f921\"]], \"type\": \"heatmap\"}], \"heatmapgl\": [{\"colorbar\": {\"outlinewidth\": 0, \"ticks\": \"\"}, \"colorscale\": [[0.0, \"#0d0887\"], [0.1111111111111111, \"#46039f\"], [0.2222222222222222, \"#7201a8\"], [0.3333333333333333, \"#9c179e\"], [0.4444444444444444, \"#bd3786\"], [0.5555555555555556, \"#d8576b\"], [0.6666666666666666, \"#ed7953\"], [0.7777777777777778, \"#fb9f3a\"], [0.8888888888888888, \"#fdca26\"], [1.0, \"#f0f921\"]], \"type\": \"heatmapgl\"}], \"histogram\": [{\"marker\": {\"colorbar\": {\"outlinewidth\": 0, \"ticks\": \"\"}}, \"type\": \"histogram\"}], \"histogram2d\": [{\"colorbar\": {\"outlinewidth\": 0, \"ticks\": \"\"}, \"colorscale\": [[0.0, \"#0d0887\"], [0.1111111111111111, \"#46039f\"], [0.2222222222222222, \"#7201a8\"], [0.3333333333333333, \"#9c179e\"], [0.4444444444444444, \"#bd3786\"], [0.5555555555555556, \"#d8576b\"], [0.6666666666666666, \"#ed7953\"], [0.7777777777777778, \"#fb9f3a\"], [0.8888888888888888, \"#fdca26\"], [1.0, \"#f0f921\"]], \"type\": \"histogram2d\"}], \"histogram2dcontour\": [{\"colorbar\": {\"outlinewidth\": 0, \"ticks\": \"\"}, \"colorscale\": [[0.0, \"#0d0887\"], [0.1111111111111111, \"#46039f\"], [0.2222222222222222, \"#7201a8\"], [0.3333333333333333, \"#9c179e\"], [0.4444444444444444, \"#bd3786\"], [0.5555555555555556, \"#d8576b\"], [0.6666666666666666, \"#ed7953\"], [0.7777777777777778, \"#fb9f3a\"], [0.8888888888888888, \"#fdca26\"], [1.0, \"#f0f921\"]], \"type\": \"histogram2dcontour\"}], \"mesh3d\": [{\"colorbar\": {\"outlinewidth\": 0, \"ticks\": \"\"}, \"type\": \"mesh3d\"}], \"parcoords\": [{\"line\": {\"colorbar\": {\"outlinewidth\": 0, \"ticks\": \"\"}}, \"type\": \"parcoords\"}], \"pie\": [{\"automargin\": true, \"type\": \"pie\"}], \"scatter\": [{\"marker\": {\"colorbar\": {\"outlinewidth\": 0, \"ticks\": \"\"}}, \"type\": \"scatter\"}], \"scatter3d\": [{\"line\": {\"colorbar\": {\"outlinewidth\": 0, \"ticks\": \"\"}}, \"marker\": {\"colorbar\": {\"outlinewidth\": 0, \"ticks\": \"\"}}, \"type\": \"scatter3d\"}], \"scattercarpet\": [{\"marker\": {\"colorbar\": {\"outlinewidth\": 0, \"ticks\": \"\"}}, \"type\": \"scattercarpet\"}], \"scattergeo\": [{\"marker\": {\"colorbar\": {\"outlinewidth\": 0, \"ticks\": \"\"}}, \"type\": \"scattergeo\"}], \"scattergl\": [{\"marker\": {\"colorbar\": {\"outlinewidth\": 0, \"ticks\": \"\"}}, \"type\": \"scattergl\"}], \"scattermapbox\": [{\"marker\": {\"colorbar\": {\"outlinewidth\": 0, \"ticks\": \"\"}}, \"type\": \"scattermapbox\"}], \"scatterpolar\": [{\"marker\": {\"colorbar\": {\"outlinewidth\": 0, \"ticks\": \"\"}}, \"type\": \"scatterpolar\"}], \"scatterpolargl\": [{\"marker\": {\"colorbar\": {\"outlinewidth\": 0, \"ticks\": \"\"}}, \"type\": \"scatterpolargl\"}], \"scatterternary\": [{\"marker\": {\"colorbar\": {\"outlinewidth\": 0, \"ticks\": \"\"}}, \"type\": \"scatterternary\"}], \"surface\": [{\"colorbar\": {\"outlinewidth\": 0, \"ticks\": \"\"}, \"colorscale\": [[0.0, \"#0d0887\"], [0.1111111111111111, \"#46039f\"], [0.2222222222222222, \"#7201a8\"], [0.3333333333333333, \"#9c179e\"], [0.4444444444444444, \"#bd3786\"], [0.5555555555555556, \"#d8576b\"], [0.6666666666666666, \"#ed7953\"], [0.7777777777777778, \"#fb9f3a\"], [0.8888888888888888, \"#fdca26\"], [1.0, \"#f0f921\"]], \"type\": \"surface\"}], \"table\": [{\"cells\": {\"fill\": {\"color\": \"#EBF0F8\"}, \"line\": {\"color\": \"white\"}}, \"header\": {\"fill\": {\"color\": \"#C8D4E3\"}, \"line\": {\"color\": \"white\"}}, \"type\": \"table\"}]}, \"layout\": {\"annotationdefaults\": {\"arrowcolor\": \"#2a3f5f\", \"arrowhead\": 0, \"arrowwidth\": 1}, \"coloraxis\": {\"colorbar\": {\"outlinewidth\": 0, \"ticks\": \"\"}}, \"colorscale\": {\"diverging\": [[0, \"#8e0152\"], [0.1, \"#c51b7d\"], [0.2, \"#de77ae\"], [0.3, \"#f1b6da\"], [0.4, \"#fde0ef\"], [0.5, \"#f7f7f7\"], [0.6, \"#e6f5d0\"], [0.7, \"#b8e186\"], [0.8, \"#7fbc41\"], [0.9, \"#4d9221\"], [1, \"#276419\"]], \"sequential\": [[0.0, \"#0d0887\"], [0.1111111111111111, \"#46039f\"], [0.2222222222222222, \"#7201a8\"], [0.3333333333333333, \"#9c179e\"], [0.4444444444444444, \"#bd3786\"], [0.5555555555555556, \"#d8576b\"], [0.6666666666666666, \"#ed7953\"], [0.7777777777777778, \"#fb9f3a\"], [0.8888888888888888, \"#fdca26\"], [1.0, \"#f0f921\"]], \"sequentialminus\": [[0.0, \"#0d0887\"], [0.1111111111111111, \"#46039f\"], [0.2222222222222222, \"#7201a8\"], [0.3333333333333333, \"#9c179e\"], [0.4444444444444444, \"#bd3786\"], [0.5555555555555556, \"#d8576b\"], [0.6666666666666666, \"#ed7953\"], [0.7777777777777778, \"#fb9f3a\"], [0.8888888888888888, \"#fdca26\"], [1.0, \"#f0f921\"]]}, \"colorway\": [\"#636efa\", \"#EF553B\", \"#00cc96\", \"#ab63fa\", \"#FFA15A\", \"#19d3f3\", \"#FF6692\", \"#B6E880\", \"#FF97FF\", \"#FECB52\"], \"font\": {\"color\": \"#2a3f5f\"}, \"geo\": {\"bgcolor\": \"white\", \"lakecolor\": \"white\", \"landcolor\": \"#E5ECF6\", \"showlakes\": true, \"showland\": true, \"subunitcolor\": \"white\"}, \"hoverlabel\": {\"align\": \"left\"}, \"hovermode\": \"closest\", \"mapbox\": {\"style\": \"light\"}, \"paper_bgcolor\": \"white\", \"plot_bgcolor\": \"#E5ECF6\", \"polar\": {\"angularaxis\": {\"gridcolor\": \"white\", \"linecolor\": \"white\", \"ticks\": \"\"}, \"bgcolor\": \"#E5ECF6\", \"radialaxis\": {\"gridcolor\": \"white\", \"linecolor\": \"white\", \"ticks\": \"\"}}, \"scene\": {\"xaxis\": {\"backgroundcolor\": \"#E5ECF6\", \"gridcolor\": \"white\", \"gridwidth\": 2, \"linecolor\": \"white\", \"showbackground\": true, \"ticks\": \"\", \"zerolinecolor\": \"white\"}, \"yaxis\": {\"backgroundcolor\": \"#E5ECF6\", \"gridcolor\": \"white\", \"gridwidth\": 2, \"linecolor\": \"white\", \"showbackground\": true, \"ticks\": \"\", \"zerolinecolor\": \"white\"}, \"zaxis\": {\"backgroundcolor\": \"#E5ECF6\", \"gridcolor\": \"white\", \"gridwidth\": 2, \"linecolor\": \"white\", \"showbackground\": true, \"ticks\": \"\", \"zerolinecolor\": \"white\"}}, \"shapedefaults\": {\"line\": {\"color\": \"#2a3f5f\"}}, \"ternary\": {\"aaxis\": {\"gridcolor\": \"white\", \"linecolor\": \"white\", \"ticks\": \"\"}, \"baxis\": {\"gridcolor\": \"white\", \"linecolor\": \"white\", \"ticks\": \"\"}, \"bgcolor\": \"#E5ECF6\", \"caxis\": {\"gridcolor\": \"white\", \"linecolor\": \"white\", \"ticks\": \"\"}}, \"title\": {\"x\": 0.05}, \"xaxis\": {\"automargin\": true, \"gridcolor\": \"white\", \"linecolor\": \"white\", \"ticks\": \"\", \"title\": {\"standoff\": 15}, \"zerolinecolor\": \"white\", \"zerolinewidth\": 2}, \"yaxis\": {\"automargin\": true, \"gridcolor\": \"white\", \"linecolor\": \"white\", \"ticks\": \"\", \"title\": {\"standoff\": 15}, \"zerolinecolor\": \"white\", \"zerolinewidth\": 2}}}, \"title\": {\"text\": \"Suicides / 100k Population\"}},\n",
       "                        {\"responsive\": true}\n",
       "                    ).then(function(){\n",
       "                            \n",
       "var gd = document.getElementById('69849b64-6407-4431-a535-4f7350034862');\n",
       "var x = new MutationObserver(function (mutations, observer) {{\n",
       "        var display = window.getComputedStyle(gd).display;\n",
       "        if (!display || display === 'none') {{\n",
       "            console.log([gd, 'removed!']);\n",
       "            Plotly.purge(gd);\n",
       "            observer.disconnect();\n",
       "        }}\n",
       "}});\n",
       "\n",
       "// Listen for the removal of the full notebook cells\n",
       "var notebookContainer = gd.closest('#notebook-container');\n",
       "if (notebookContainer) {{\n",
       "    x.observe(notebookContainer, {childList: true});\n",
       "}}\n",
       "\n",
       "// Listen for the clearing of the current output cell\n",
       "var outputEl = gd.closest('.output');\n",
       "if (outputEl) {{\n",
       "    x.observe(outputEl, {childList: true});\n",
       "}}\n",
       "\n",
       "                        })\n",
       "                };\n",
       "                });\n",
       "            </script>\n",
       "        </div>"
      ]
     },
     "metadata": {},
     "output_type": "display_data"
    }
   ],
   "source": [
    "data = dict(\n",
    "            type = 'choropleth',\n",
    "            locations = country_trend['country'],\n",
    "            locationmode = 'country names',\n",
    "            z = country_trend['suicides/100k pop'],\n",
    "            text = country_trend['country'],\n",
    "            colorbar = {'title':'Suicides / 100k Population'})\n",
    "layout = dict(\n",
    "              title = 'Suicides / 100k Population',\n",
    "              geo = dict(\n",
    "                         showframe = False))\n",
    "choromap = go.Figure(data = [data],layout = layout)\n",
    "iplot(choromap)"
   ]
  },
  {
   "cell_type": "markdown",
   "metadata": {},
   "source": [
    "I'm also looking at how the suicide rate is changing over time for the countries in the dataset. To do this, I fit a linear regression to every country's data. \n",
    "\n",
    "This will show how each country's suicide rate is linearly increasing or decreasing over time. The rank can be ordered by their year coefficient. The year coefficient would be the rate of change as time goes on.\n",
    "\n"
   ]
  },
  {
   "cell_type": "code",
   "execution_count": 15,
   "metadata": {},
   "outputs": [
    {
     "data": {
      "text/plain": [
       "Text(0.5, 0, 'Change per year (Suicides per 100K)')"
      ]
     },
     "execution_count": 15,
     "metadata": {},
     "output_type": "execute_result"
    },
    {
     "data": {
      "image/png": "[encoded data removed]",
      "text/plain": [
       "<Figure size 576x1440 with 1 Axes>"
      ]
     },
     "metadata": {
      "needs_background": "light"
     },
     "output_type": "display_data"
    }
   ],
   "source": [
    "# Create a regression coefficient for each country\n",
    "raw_data['regression_coeff'] = ''\n",
    "for i in range(len(country_trend['country'])):\n",
    "    df = raw_data[raw_data['country'] == country_trend['country'][i]][['year','suicides/100k pop']]\n",
    "    x = df[['year']]\n",
    "    y = df['suicides/100k pop']\n",
    "    lm = LinearRegression()\n",
    "    lm.fit(x,y)\n",
    "    reg = lm.coef_\n",
    "    country_trend.loc[i,'regression_coeff']= reg[0]\n",
    "\n",
    "# Sort country_trend dataset according to regression coefficient\n",
    "country_trend = country_trend.sort_values('regression_coeff', ascending = False).reset_index(drop = True)    \n",
    "\n",
    "# Plot the regression Trend for each country\n",
    "plt.figure(figsize=(8,20))\n",
    "sns.barplot(data = country_trend, x = 'regression_coeff', y = 'country', hue = 'continent', dodge = False)\n",
    "plt.legend(loc = 'center right')\n",
    "plt.xlabel('Change per year (Suicides per 100K)')"
   ]
  },
  {
   "cell_type": "markdown",
   "metadata": {},
   "source": [
    "*Insights*\n",
    "\n",
    "- We see that many European countries have decreasing coefficients or their suicide rates have been decreasing with time\n",
    "- It is alarming to see that South Korea and other Asian countires have high regression coefficients"
   ]
  },
  {
   "cell_type": "markdown",
   "metadata": {},
   "source": [
    "### 2.7) Gender differences, by Continent"
   ]
  },
  {
   "cell_type": "code",
   "execution_count": 14,
   "metadata": {},
   "outputs": [
    {
     "data": {
      "text/plain": [
       "Text(0.5, 1.0, 'Gender Disparity, by continent')"
      ]
     },
     "execution_count": 14,
     "metadata": {},
     "output_type": "execute_result"
    },
    {
     "data": {
      "image/png": "[encoded data removed]",
      "text/plain": [
       "<Figure size 576x576 with 1 Axes>"
      ]
     },
     "metadata": {
      "needs_background": "light"
     },
     "output_type": "display_data"
    }
   ],
   "source": [
    "# Show gender disparity by continent\n",
    "plt.figure(figsize=(8,8))\n",
    "sns.barplot(data = raw_data, x = 'suicides/100k pop', y = 'continent', hue = 'sex', ci = None)\n",
    "plt.legend(loc = 'center right')\n",
    "plt.title('Gender Disparity, by continent')"
   ]
  },
  {
   "cell_type": "markdown",
   "metadata": {},
   "source": [
    "*Insights*\n",
    "\n",
    "- European men seem to be at the highest risk between 1985 - 2015\n",
    "- Africa's suicide rate was lowest due to unavailability of data for the majority of African states"
   ]
  },
  {
   "cell_type": "code",
   "execution_count": 15,
   "metadata": {},
   "outputs": [
    {
     "data": {
      "text/plain": [
       "Text(0.5, 0, 'Change per year (Suicides per 100K)')"
      ]
     },
     "execution_count": 15,
     "metadata": {},
     "output_type": "execute_result"
    },
    {
     "data": {
      "image/png": "[encoded data removed]",
      "text/plain": [
       "<Figure size 576x2160 with 1 Axes>"
      ]
     },
     "metadata": {
      "needs_background": "light"
     },
     "output_type": "display_data"
    }
   ],
   "source": [
    "plt.figure(figsize=(8,30))\n",
    "sns.barplot(data = raw_data, x = 'suicides/100k pop', y = 'country', hue = 'sex', ci = None)\n",
    "plt.legend(loc = 'center right')\n",
    "plt.title('Gender Disparity, by continent')\n",
    "plt.xlabel('Change per year (Suicides per 100K)')"
   ]
  },
  {
   "cell_type": "code",
   "execution_count": null,
   "metadata": {},
   "outputs": [],
   "source": [
    "# create a dataset for all male by country\n",
    "# create a dataset for all female by country\n",
    "# groupby country\n",
    "# "
   ]
  },
  {
   "cell_type": "code",
   "execution_count": 121,
   "metadata": {},
   "outputs": [
    {
     "data": {
      "application/vnd.plotly.v1+json": {
       "config": {
        "linkText": "Export to plot.ly",
        "plotlyServerURL": "https://plot.ly",
        "showLink": false
       },
       "data": [
        {
         "marker": {
          "color": "#CD7F32"
         },
         "name": "Male",
         "type": "bar",
         "x": [
          "Albania",
          "Antigua and Barbuda",
          "Argentina",
          "Armenia",
          "Aruba",
          "Australia",
          "Austria",
          "Azerbaijan",
          "Bahamas",
          "Bahrain",
          "Barbados",
          "Belarus",
          "Belgium",
          "Belize",
          "Brazil",
          "Bulgaria",
          "Canada",
          "Chile",
          "Colombia",
          "Costa Rica",
          "Croatia",
          "Cuba",
          "Cyprus",
          "Czech Republic",
          "Denmark",
          "Ecuador",
          "El Salvador",
          "Estonia",
          "Fiji",
          "Finland",
          "France",
          "Georgia",
          "Germany",
          "Greece",
          "Grenada",
          "Guatemala",
          "Guyana",
          "Hungary",
          "Iceland",
          "Ireland",
          "Israel",
          "Italy",
          "Jamaica",
          "Japan",
          "Kazakhstan",
          "Kiribati",
          "Kuwait",
          "Kyrgyzstan",
          "Latvia",
          "Lithuania",
          "Luxembourg",
          "Maldives",
          "Malta",
          "Mauritius",
          "Mexico",
          "Montenegro",
          "Netherlands",
          "New Zealand",
          "Nicaragua",
          "Norway",
          "Panama",
          "Paraguay",
          "Philippines",
          "Poland",
          "Portugal",
          "Puerto Rico",
          "Qatar",
          "South Korea",
          "Romania",
          "Russian Federation",
          "Saint Lucia",
          "Saint Vincent and Grenadines",
          "Serbia",
          "Seychelles",
          "Singapore",
          "Slovakia",
          "Slovenia",
          "South Africa",
          "Spain",
          "Sri Lanka",
          "Suriname",
          "Sweden",
          "Switzerland",
          "Thailand",
          "Trinidad and Tobago",
          "Turkey",
          "Turkmenistan",
          "Ukraine",
          "United Arab Emirates",
          "United Kingdom",
          "United States",
          "Uruguay",
          "Uzbekistan"
         ],
         "y": [
          65.50672606946665,
          91.28056268840014,
          81.87100567710594,
          75.03981189547372,
          82.69047678701173,
          79.54851082115948,
          78.25199595187227,
          72.39220750056134,
          85.58440803996747,
          76.4917387209999,
          84.2626777237889,
          84.88506767222614,
          75.47496993861147,
          88.30278625644257,
          81.8440994702766,
          74.98375161058597,
          79.49418261607114,
          86.45796146510133,
          83.4387550450634,
          87.85653869648982,
          78.60686255477286,
          75.61187509714577,
          81.87197417966648,
          80.74882192556682,
          74.60293149543887,
          73.60321676950042,
          77.56411523284386,
          82.5918199302276,
          73.43513489448846,
          80.02829339824915,
          77.27716015762664,
          80.7977570361347,
          76.46852837153348,
          80.99291061555967,
          86.76096822995463,
          82.51765937036716,
          78.64818086755851,
          78.46597940639838,
          76.48952894456055,
          81.10043717620758,
          75.76794986141017,
          79.44787889689384,
          85.86057872980084,
          68.26458556327985,
          81.95990974334836,
          81.5631011599185,
          56.57573118309779,
          79.17506113566509,
          83.35098700048144,
          83.94529859706901,
          76.35595202515695,
          27.21233544612384,
          82.72284870273131,
          74.59223692409198,
          86.80268845756316,
          71.73102853362145,
          69.69483109214471,
          78.54829563606151,
          80.61841715663466,
          74.75358249834721,
          86.04921849018956,
          74.58594670550431,
          77.41550604593535,
          85.88759374388873,
          80.34415358146221,
          90.92888358738337,
          81.28397189447172,
          82.2044180093805,
          83.37595410225266,
          83.21529510933337,
          93.76241580419659,
          75.60120732331407,
          93.39914588104227,
          62.836974726304184,
          86.39969139523109,
          81.16723849288856,
          79.22588448745088,
          70.53478709580824,
          79.0539346719634,
          78.04424163332591,
          75.42514157423848,
          72.72905216016038,
          74.21189094026573,
          75.38232655829525,
          81.01600398257858,
          75.6790681327509,
          72.78452481525875,
          83.23839017607041,
          63.31541785224998,
          77.32647299098508,
          83.08081937844418,
          83.26584043945824,
          73.23037924954515
         ]
        },
        {
         "marker": {
          "color": "#9EA0A1"
         },
         "name": "Female",
         "type": "bar",
         "x": [
          "Albania",
          "Antigua and Barbuda",
          "Argentina",
          "Armenia",
          "Aruba",
          "Australia",
          "Austria",
          "Azerbaijan",
          "Bahamas",
          "Bahrain",
          "Barbados",
          "Belarus",
          "Belgium",
          "Belize",
          "Brazil",
          "Bulgaria",
          "Canada",
          "Chile",
          "Colombia",
          "Costa Rica",
          "Croatia",
          "Cuba",
          "Cyprus",
          "Czech Republic",
          "Denmark",
          "Ecuador",
          "El Salvador",
          "Estonia",
          "Fiji",
          "Finland",
          "France",
          "Georgia",
          "Germany",
          "Greece",
          "Grenada",
          "Guatemala",
          "Guyana",
          "Hungary",
          "Iceland",
          "Ireland",
          "Israel",
          "Italy",
          "Jamaica",
          "Japan",
          "Kazakhstan",
          "Kiribati",
          "Kuwait",
          "Kyrgyzstan",
          "Latvia",
          "Lithuania",
          "Luxembourg",
          "Maldives",
          "Malta",
          "Mauritius",
          "Mexico",
          "Montenegro",
          "Netherlands",
          "New Zealand",
          "Nicaragua",
          "Norway",
          "Panama",
          "Paraguay",
          "Philippines",
          "Poland",
          "Portugal",
          "Puerto Rico",
          "Qatar",
          "South Korea",
          "Romania",
          "Russian Federation",
          "Saint Lucia",
          "Saint Vincent and Grenadines",
          "Serbia",
          "Seychelles",
          "Singapore",
          "Slovakia",
          "Slovenia",
          "South Africa",
          "Spain",
          "Sri Lanka",
          "Suriname",
          "Sweden",
          "Switzerland",
          "Thailand",
          "Trinidad and Tobago",
          "Turkey",
          "Turkmenistan",
          "Ukraine",
          "United Arab Emirates",
          "United Kingdom",
          "United States",
          "Uruguay",
          "Uzbekistan"
         ],
         "y": [
          34.49327393053333,
          8.719437311599867,
          18.12899432289407,
          24.96018810452625,
          17.30952321298825,
          20.451489178840397,
          21.74800404812775,
          27.60779249943856,
          14.415591960032529,
          23.508261279000088,
          15.737322276211103,
          15.114932327773895,
          24.525030061388513,
          11.697213743557402,
          18.155900529723365,
          25.01624838941399,
          20.505817383928914,
          13.542038534898662,
          16.561244954936562,
          12.143461303510186,
          21.393137445227133,
          24.388124902854237,
          18.128025820333516,
          19.25117807443326,
          25.397068504561172,
          26.396783230499633,
          22.435884767156114,
          17.40818006977237,
          26.56486510551152,
          19.971706601750856,
          22.722839842373375,
          19.20224296386536,
          23.531471628466495,
          19.00708938444039,
          13.239031770045386,
          17.482340629632866,
          21.3518191324415,
          21.534020593601642,
          23.51047105543945,
          18.899562823792508,
          24.232050138589834,
          20.552121103106145,
          14.139421270199174,
          31.7354144367202,
          18.04009025665161,
          18.4368988400815,
          43.42426881690219,
          20.824938864334896,
          16.64901299951853,
          16.05470140293102,
          23.64404797484312,
          72.78766455387616,
          17.277151297268713,
          25.407763075908086,
          13.197311542436857,
          28.268971466378577,
          30.30516890785532,
          21.451704363938383,
          19.381582843365337,
          25.2464175016528,
          13.950781509810447,
          25.41405329449561,
          22.58449395406466,
          14.112406256111246,
          19.655846418537813,
          9.071116412616654,
          18.71602810552832,
          17.795581990619496,
          16.624045897747294,
          16.78470489066657,
          6.237584195803386,
          24.39879267668591,
          6.600854118957725,
          37.163025273695894,
          13.600308604768912,
          18.83276150711148,
          20.774115512549134,
          29.465212904191773,
          20.946065328036553,
          21.955758366674115,
          24.57485842576149,
          27.27094783983968,
          25.78810905973421,
          24.61767344170478,
          18.983996017421564,
          24.320931867249072,
          27.215475184741184,
          16.761609823929735,
          36.684582147750035,
          22.673527009014958,
          16.919180621555853,
          16.73415956054174,
          26.76962075045483
         ]
        }
       ],
       "layout": {
        "barmode": "stack",
        "template": {
         "data": {
          "bar": [
           {
            "error_x": {
             "color": "#2a3f5f"
            },
            "error_y": {
             "color": "#2a3f5f"
            },
            "marker": {
             "line": {
              "color": "#E5ECF6",
              "width": 0.5
             }
            },
            "type": "bar"
           }
          ],
          "barpolar": [
           {
            "marker": {
             "line": {
              "color": "#E5ECF6",
              "width": 0.5
             }
            },
            "type": "barpolar"
           }
          ],
          "carpet": [
           {
            "aaxis": {
             "endlinecolor": "#2a3f5f",
             "gridcolor": "white",
             "linecolor": "white",
             "minorgridcolor": "white",
             "startlinecolor": "#2a3f5f"
            },
            "baxis": {
             "endlinecolor": "#2a3f5f",
             "gridcolor": "white",
             "linecolor": "white",
             "minorgridcolor": "white",
             "startlinecolor": "#2a3f5f"
            },
            "type": "carpet"
           }
          ],
          "choropleth": [
           {
            "colorbar": {
             "outlinewidth": 0,
             "ticks": ""
            },
            "type": "choropleth"
           }
          ],
          "contour": [
           {
            "colorbar": {
             "outlinewidth": 0,
             "ticks": ""
            },
            "colorscale": [
             [
              0,
              "#0d0887"
             ],
             [
              0.1111111111111111,
              "#46039f"
             ],
             [
              0.2222222222222222,
              "#7201a8"
             ],
             [
              0.3333333333333333,
              "#9c179e"
             ],
             [
              0.4444444444444444,
              "#bd3786"
             ],
             [
              0.5555555555555556,
              "#d8576b"
             ],
             [
              0.6666666666666666,
              "#ed7953"
             ],
             [
              0.7777777777777778,
              "#fb9f3a"
             ],
             [
              0.8888888888888888,
              "#fdca26"
             ],
             [
              1,
              "#f0f921"
             ]
            ],
            "type": "contour"
           }
          ],
          "contourcarpet": [
           {
            "colorbar": {
             "outlinewidth": 0,
             "ticks": ""
            },
            "type": "contourcarpet"
           }
          ],
          "heatmap": [
           {
            "colorbar": {
             "outlinewidth": 0,
             "ticks": ""
            },
            "colorscale": [
             [
              0,
              "#0d0887"
             ],
             [
              0.1111111111111111,
              "#46039f"
             ],
             [
              0.2222222222222222,
              "#7201a8"
             ],
             [
              0.3333333333333333,
              "#9c179e"
             ],
             [
              0.4444444444444444,
              "#bd3786"
             ],
             [
              0.5555555555555556,
              "#d8576b"
             ],
             [
              0.6666666666666666,
              "#ed7953"
             ],
             [
              0.7777777777777778,
              "#fb9f3a"
             ],
             [
              0.8888888888888888,
              "#fdca26"
             ],
             [
              1,
              "#f0f921"
             ]
            ],
            "type": "heatmap"
           }
          ],
          "heatmapgl": [
           {
            "colorbar": {
             "outlinewidth": 0,
             "ticks": ""
            },
            "colorscale": [
             [
              0,
              "#0d0887"
             ],
             [
              0.1111111111111111,
              "#46039f"
             ],
             [
              0.2222222222222222,
              "#7201a8"
             ],
             [
              0.3333333333333333,
              "#9c179e"
             ],
             [
              0.4444444444444444,
              "#bd3786"
             ],
             [
              0.5555555555555556,
              "#d8576b"
             ],
             [
              0.6666666666666666,
              "#ed7953"
             ],
             [
              0.7777777777777778,
              "#fb9f3a"
             ],
             [
              0.8888888888888888,
              "#fdca26"
             ],
             [
              1,
              "#f0f921"
             ]
            ],
            "type": "heatmapgl"
           }
          ],
          "histogram": [
           {
            "marker": {
             "colorbar": {
              "outlinewidth": 0,
              "ticks": ""
             }
            },
            "type": "histogram"
           }
          ],
          "histogram2d": [
           {
            "colorbar": {
             "outlinewidth": 0,
             "ticks": ""
            },
            "colorscale": [
             [
              0,
              "#0d0887"
             ],
             [
              0.1111111111111111,
              "#46039f"
             ],
             [
              0.2222222222222222,
              "#7201a8"
             ],
             [
              0.3333333333333333,
              "#9c179e"
             ],
             [
              0.4444444444444444,
              "#bd3786"
             ],
             [
              0.5555555555555556,
              "#d8576b"
             ],
             [
              0.6666666666666666,
              "#ed7953"
             ],
             [
              0.7777777777777778,
              "#fb9f3a"
             ],
             [
              0.8888888888888888,
              "#fdca26"
             ],
             [
              1,
              "#f0f921"
             ]
            ],
            "type": "histogram2d"
           }
          ],
          "histogram2dcontour": [
           {
            "colorbar": {
             "outlinewidth": 0,
             "ticks": ""
            },
            "colorscale": [
             [
              0,
              "#0d0887"
             ],
             [
              0.1111111111111111,
              "#46039f"
             ],
             [
              0.2222222222222222,
              "#7201a8"
             ],
             [
              0.3333333333333333,
              "#9c179e"
             ],
             [
              0.4444444444444444,
              "#bd3786"
             ],
             [
              0.5555555555555556,
              "#d8576b"
             ],
             [
              0.6666666666666666,
              "#ed7953"
             ],
             [
              0.7777777777777778,
              "#fb9f3a"
             ],
             [
              0.8888888888888888,
              "#fdca26"
             ],
             [
              1,
              "#f0f921"
             ]
            ],
            "type": "histogram2dcontour"
           }
          ],
          "mesh3d": [
           {
            "colorbar": {
             "outlinewidth": 0,
             "ticks": ""
            },
            "type": "mesh3d"
           }
          ],
          "parcoords": [
           {
            "line": {
             "colorbar": {
              "outlinewidth": 0,
              "ticks": ""
             }
            },
            "type": "parcoords"
           }
          ],
          "pie": [
           {
            "automargin": true,
            "type": "pie"
           }
          ],
          "scatter": [
           {
            "marker": {
             "colorbar": {
              "outlinewidth": 0,
              "ticks": ""
             }
            },
            "type": "scatter"
           }
          ],
          "scatter3d": [
           {
            "line": {
             "colorbar": {
              "outlinewidth": 0,
              "ticks": ""
             }
            },
            "marker": {
             "colorbar": {
              "outlinewidth": 0,
              "ticks": ""
             }
            },
            "type": "scatter3d"
           }
          ],
          "scattercarpet": [
           {
            "marker": {
             "colorbar": {
              "outlinewidth": 0,
              "ticks": ""
             }
            },
            "type": "scattercarpet"
           }
          ],
          "scattergeo": [
           {
            "marker": {
             "colorbar": {
              "outlinewidth": 0,
              "ticks": ""
             }
            },
            "type": "scattergeo"
           }
          ],
          "scattergl": [
           {
            "marker": {
             "colorbar": {
              "outlinewidth": 0,
              "ticks": ""
             }
            },
            "type": "scattergl"
           }
          ],
          "scattermapbox": [
           {
            "marker": {
             "colorbar": {
              "outlinewidth": 0,
              "ticks": ""
             }
            },
            "type": "scattermapbox"
           }
          ],
          "scatterpolar": [
           {
            "marker": {
             "colorbar": {
              "outlinewidth": 0,
              "ticks": ""
             }
            },
            "type": "scatterpolar"
           }
          ],
          "scatterpolargl": [
           {
            "marker": {
             "colorbar": {
              "outlinewidth": 0,
              "ticks": ""
             }
            },
            "type": "scatterpolargl"
           }
          ],
          "scatterternary": [
           {
            "marker": {
             "colorbar": {
              "outlinewidth": 0,
              "ticks": ""
             }
            },
            "type": "scatterternary"
           }
          ],
          "surface": [
           {
            "colorbar": {
             "outlinewidth": 0,
             "ticks": ""
            },
            "colorscale": [
             [
              0,
              "#0d0887"
             ],
             [
              0.1111111111111111,
              "#46039f"
             ],
             [
              0.2222222222222222,
              "#7201a8"
             ],
             [
              0.3333333333333333,
              "#9c179e"
             ],
             [
              0.4444444444444444,
              "#bd3786"
             ],
             [
              0.5555555555555556,
              "#d8576b"
             ],
             [
              0.6666666666666666,
              "#ed7953"
             ],
             [
              0.7777777777777778,
              "#fb9f3a"
             ],
             [
              0.8888888888888888,
              "#fdca26"
             ],
             [
              1,
              "#f0f921"
             ]
            ],
            "type": "surface"
           }
          ],
          "table": [
           {
            "cells": {
             "fill": {
              "color": "#EBF0F8"
             },
             "line": {
              "color": "white"
             }
            },
            "header": {
             "fill": {
              "color": "#C8D4E3"
             },
             "line": {
              "color": "white"
             }
            },
            "type": "table"
           }
          ]
         },
         "layout": {
          "annotationdefaults": {
           "arrowcolor": "#2a3f5f",
           "arrowhead": 0,
           "arrowwidth": 1
          },
          "coloraxis": {
           "colorbar": {
            "outlinewidth": 0,
            "ticks": ""
           }
          },
          "colorscale": {
           "diverging": [
            [
             0,
             "#8e0152"
            ],
            [
             0.1,
             "#c51b7d"
            ],
            [
             0.2,
             "#de77ae"
            ],
            [
             0.3,
             "#f1b6da"
            ],
            [
             0.4,
             "#fde0ef"
            ],
            [
             0.5,
             "#f7f7f7"
            ],
            [
             0.6,
             "#e6f5d0"
            ],
            [
             0.7,
             "#b8e186"
            ],
            [
             0.8,
             "#7fbc41"
            ],
            [
             0.9,
             "#4d9221"
            ],
            [
             1,
             "#276419"
            ]
           ],
           "sequential": [
            [
             0,
             "#0d0887"
            ],
            [
             0.1111111111111111,
             "#46039f"
            ],
            [
             0.2222222222222222,
             "#7201a8"
            ],
            [
             0.3333333333333333,
             "#9c179e"
            ],
            [
             0.4444444444444444,
             "#bd3786"
            ],
            [
             0.5555555555555556,
             "#d8576b"
            ],
            [
             0.6666666666666666,
             "#ed7953"
            ],
            [
             0.7777777777777778,
             "#fb9f3a"
            ],
            [
             0.8888888888888888,
             "#fdca26"
            ],
            [
             1,
             "#f0f921"
            ]
           ],
           "sequentialminus": [
            [
             0,
             "#0d0887"
            ],
            [
             0.1111111111111111,
             "#46039f"
            ],
            [
             0.2222222222222222,
             "#7201a8"
            ],
            [
             0.3333333333333333,
             "#9c179e"
            ],
            [
             0.4444444444444444,
             "#bd3786"
            ],
            [
             0.5555555555555556,
             "#d8576b"
            ],
            [
             0.6666666666666666,
             "#ed7953"
            ],
            [
             0.7777777777777778,
             "#fb9f3a"
            ],
            [
             0.8888888888888888,
             "#fdca26"
            ],
            [
             1,
             "#f0f921"
            ]
           ]
          },
          "colorway": [
           "#636efa",
           "#EF553B",
           "#00cc96",
           "#ab63fa",
           "#FFA15A",
           "#19d3f3",
           "#FF6692",
           "#B6E880",
           "#FF97FF",
           "#FECB52"
          ],
          "font": {
           "color": "#2a3f5f"
          },
          "geo": {
           "bgcolor": "white",
           "lakecolor": "white",
           "landcolor": "#E5ECF6",
           "showlakes": true,
           "showland": true,
           "subunitcolor": "white"
          },
          "hoverlabel": {
           "align": "left"
          },
          "hovermode": "closest",
          "mapbox": {
           "style": "light"
          },
          "paper_bgcolor": "white",
          "plot_bgcolor": "#E5ECF6",
          "polar": {
           "angularaxis": {
            "gridcolor": "white",
            "linecolor": "white",
            "ticks": ""
           },
           "bgcolor": "#E5ECF6",
           "radialaxis": {
            "gridcolor": "white",
            "linecolor": "white",
            "ticks": ""
           }
          },
          "scene": {
           "xaxis": {
            "backgroundcolor": "#E5ECF6",
            "gridcolor": "white",
            "gridwidth": 2,
            "linecolor": "white",
            "showbackground": true,
            "ticks": "",
            "zerolinecolor": "white"
           },
           "yaxis": {
            "backgroundcolor": "#E5ECF6",
            "gridcolor": "white",
            "gridwidth": 2,
            "linecolor": "white",
            "showbackground": true,
            "ticks": "",
            "zerolinecolor": "white"
           },
           "zaxis": {
            "backgroundcolor": "#E5ECF6",
            "gridcolor": "white",
            "gridwidth": 2,
            "linecolor": "white",
            "showbackground": true,
            "ticks": "",
            "zerolinecolor": "white"
           }
          },
          "shapedefaults": {
           "line": {
            "color": "#2a3f5f"
           }
          },
          "ternary": {
           "aaxis": {
            "gridcolor": "white",
            "linecolor": "white",
            "ticks": ""
           },
           "baxis": {
            "gridcolor": "white",
            "linecolor": "white",
            "ticks": ""
           },
           "bgcolor": "#E5ECF6",
           "caxis": {
            "gridcolor": "white",
            "linecolor": "white",
            "ticks": ""
           }
          },
          "title": {
           "x": 0.05
          },
          "xaxis": {
           "automargin": true,
           "gridcolor": "white",
           "linecolor": "white",
           "ticks": "",
           "title": {
            "standoff": 15
           },
           "zerolinecolor": "white",
           "zerolinewidth": 2
          },
          "yaxis": {
           "automargin": true,
           "gridcolor": "white",
           "linecolor": "white",
           "ticks": "",
           "title": {
            "standoff": 15
           },
           "zerolinecolor": "white",
           "zerolinewidth": 2
          }
         }
        },
        "title": {
         "text": "Proportions of suicides that are Male & Female, by Country"
        }
       }
      },
      "text/html": [
       "<div>\n",
       "        \n",
       "        \n",
       "            <div id=\"54d79be5-d816-480c-a8fd-6e0520ae08f4\" class=\"plotly-graph-div\" style=\"height:525px; width:100%;\"></div>\n",
       "            <script type=\"text/javascript\">\n",
       "                require([\"plotly\"], function(Plotly) {\n",
       "                    window.PLOTLYENV=window.PLOTLYENV || {};\n",
       "                    \n",
       "                if (document.getElementById(\"54d79be5-d816-480c-a8fd-6e0520ae08f4\")) {\n",
       "                    Plotly.newPlot(\n",
       "                        '54d79be5-d816-480c-a8fd-6e0520ae08f4',\n",
       "                        [{\"marker\": {\"color\": \"#CD7F32\"}, \"name\": \"Male\", \"type\": \"bar\", \"x\": [\"Albania\", \"Antigua and Barbuda\", \"Argentina\", \"Armenia\", \"Aruba\", \"Australia\", \"Austria\", \"Azerbaijan\", \"Bahamas\", \"Bahrain\", \"Barbados\", \"Belarus\", \"Belgium\", \"Belize\", \"Brazil\", \"Bulgaria\", \"Canada\", \"Chile\", \"Colombia\", \"Costa Rica\", \"Croatia\", \"Cuba\", \"Cyprus\", \"Czech Republic\", \"Denmark\", \"Ecuador\", \"El Salvador\", \"Estonia\", \"Fiji\", \"Finland\", \"France\", \"Georgia\", \"Germany\", \"Greece\", \"Grenada\", \"Guatemala\", \"Guyana\", \"Hungary\", \"Iceland\", \"Ireland\", \"Israel\", \"Italy\", \"Jamaica\", \"Japan\", \"Kazakhstan\", \"Kiribati\", \"Kuwait\", \"Kyrgyzstan\", \"Latvia\", \"Lithuania\", \"Luxembourg\", \"Maldives\", \"Malta\", \"Mauritius\", \"Mexico\", \"Montenegro\", \"Netherlands\", \"New Zealand\", \"Nicaragua\", \"Norway\", \"Panama\", \"Paraguay\", \"Philippines\", \"Poland\", \"Portugal\", \"Puerto Rico\", \"Qatar\", \"South Korea\", \"Romania\", \"Russian Federation\", \"Saint Lucia\", \"Saint Vincent and Grenadines\", \"Serbia\", \"Seychelles\", \"Singapore\", \"Slovakia\", \"Slovenia\", \"South Africa\", \"Spain\", \"Sri Lanka\", \"Suriname\", \"Sweden\", \"Switzerland\", \"Thailand\", \"Trinidad and Tobago\", \"Turkey\", \"Turkmenistan\", \"Ukraine\", \"United Arab Emirates\", \"United Kingdom\", \"United States\", \"Uruguay\", \"Uzbekistan\"], \"y\": [65.50672606946665, 91.28056268840014, 81.87100567710594, 75.03981189547372, 82.69047678701173, 79.54851082115948, 78.25199595187227, 72.39220750056134, 85.58440803996747, 76.4917387209999, 84.2626777237889, 84.88506767222614, 75.47496993861147, 88.30278625644257, 81.8440994702766, 74.98375161058597, 79.49418261607114, 86.45796146510133, 83.4387550450634, 87.85653869648982, 78.60686255477286, 75.61187509714577, 81.87197417966648, 80.74882192556682, 74.60293149543887, 73.60321676950042, 77.56411523284386, 82.5918199302276, 73.43513489448846, 80.02829339824915, 77.27716015762664, 80.7977570361347, 76.46852837153348, 80.99291061555967, 86.76096822995463, 82.51765937036716, 78.64818086755851, 78.46597940639838, 76.48952894456055, 81.10043717620758, 75.76794986141017, 79.44787889689384, 85.86057872980084, 68.26458556327985, 81.95990974334836, 81.5631011599185, 56.57573118309779, 79.17506113566509, 83.35098700048144, 83.94529859706901, 76.35595202515695, 27.21233544612384, 82.72284870273131, 74.59223692409198, 86.80268845756316, 71.73102853362145, 69.69483109214471, 78.54829563606151, 80.61841715663466, 74.75358249834721, 86.04921849018956, 74.58594670550431, 77.41550604593535, 85.88759374388873, 80.34415358146221, 90.92888358738337, 81.28397189447172, 82.2044180093805, 83.37595410225266, 83.21529510933337, 93.76241580419659, 75.60120732331407, 93.39914588104227, 62.836974726304184, 86.39969139523109, 81.16723849288856, 79.22588448745088, 70.53478709580824, 79.0539346719634, 78.04424163332591, 75.42514157423848, 72.72905216016038, 74.21189094026573, 75.38232655829525, 81.01600398257858, 75.6790681327509, 72.78452481525875, 83.23839017607041, 63.31541785224998, 77.32647299098508, 83.08081937844418, 83.26584043945824, 73.23037924954515]}, {\"marker\": {\"color\": \"#9EA0A1\"}, \"name\": \"Female\", \"type\": \"bar\", \"x\": [\"Albania\", \"Antigua and Barbuda\", \"Argentina\", \"Armenia\", \"Aruba\", \"Australia\", \"Austria\", \"Azerbaijan\", \"Bahamas\", \"Bahrain\", \"Barbados\", \"Belarus\", \"Belgium\", \"Belize\", \"Brazil\", \"Bulgaria\", \"Canada\", \"Chile\", \"Colombia\", \"Costa Rica\", \"Croatia\", \"Cuba\", \"Cyprus\", \"Czech Republic\", \"Denmark\", \"Ecuador\", \"El Salvador\", \"Estonia\", \"Fiji\", \"Finland\", \"France\", \"Georgia\", \"Germany\", \"Greece\", \"Grenada\", \"Guatemala\", \"Guyana\", \"Hungary\", \"Iceland\", \"Ireland\", \"Israel\", \"Italy\", \"Jamaica\", \"Japan\", \"Kazakhstan\", \"Kiribati\", \"Kuwait\", \"Kyrgyzstan\", \"Latvia\", \"Lithuania\", \"Luxembourg\", \"Maldives\", \"Malta\", \"Mauritius\", \"Mexico\", \"Montenegro\", \"Netherlands\", \"New Zealand\", \"Nicaragua\", \"Norway\", \"Panama\", \"Paraguay\", \"Philippines\", \"Poland\", \"Portugal\", \"Puerto Rico\", \"Qatar\", \"South Korea\", \"Romania\", \"Russian Federation\", \"Saint Lucia\", \"Saint Vincent and Grenadines\", \"Serbia\", \"Seychelles\", \"Singapore\", \"Slovakia\", \"Slovenia\", \"South Africa\", \"Spain\", \"Sri Lanka\", \"Suriname\", \"Sweden\", \"Switzerland\", \"Thailand\", \"Trinidad and Tobago\", \"Turkey\", \"Turkmenistan\", \"Ukraine\", \"United Arab Emirates\", \"United Kingdom\", \"United States\", \"Uruguay\", \"Uzbekistan\"], \"y\": [34.49327393053333, 8.719437311599867, 18.12899432289407, 24.96018810452625, 17.30952321298825, 20.451489178840397, 21.74800404812775, 27.60779249943856, 14.415591960032529, 23.508261279000088, 15.737322276211103, 15.114932327773895, 24.525030061388513, 11.697213743557402, 18.155900529723365, 25.01624838941399, 20.505817383928914, 13.542038534898662, 16.561244954936562, 12.143461303510186, 21.393137445227133, 24.388124902854237, 18.128025820333516, 19.25117807443326, 25.397068504561172, 26.396783230499633, 22.435884767156114, 17.40818006977237, 26.56486510551152, 19.971706601750856, 22.722839842373375, 19.20224296386536, 23.531471628466495, 19.00708938444039, 13.239031770045386, 17.482340629632866, 21.3518191324415, 21.534020593601642, 23.51047105543945, 18.899562823792508, 24.232050138589834, 20.552121103106145, 14.139421270199174, 31.7354144367202, 18.04009025665161, 18.4368988400815, 43.42426881690219, 20.824938864334896, 16.64901299951853, 16.05470140293102, 23.64404797484312, 72.78766455387616, 17.277151297268713, 25.407763075908086, 13.197311542436857, 28.268971466378577, 30.30516890785532, 21.451704363938383, 19.381582843365337, 25.2464175016528, 13.950781509810447, 25.41405329449561, 22.58449395406466, 14.112406256111246, 19.655846418537813, 9.071116412616654, 18.71602810552832, 17.795581990619496, 16.624045897747294, 16.78470489066657, 6.237584195803386, 24.39879267668591, 6.600854118957725, 37.163025273695894, 13.600308604768912, 18.83276150711148, 20.774115512549134, 29.465212904191773, 20.946065328036553, 21.955758366674115, 24.57485842576149, 27.27094783983968, 25.78810905973421, 24.61767344170478, 18.983996017421564, 24.320931867249072, 27.215475184741184, 16.761609823929735, 36.684582147750035, 22.673527009014958, 16.919180621555853, 16.73415956054174, 26.76962075045483]}],\n",
       "                        {\"barmode\": \"stack\", \"template\": {\"data\": {\"bar\": [{\"error_x\": {\"color\": \"#2a3f5f\"}, \"error_y\": {\"color\": \"#2a3f5f\"}, \"marker\": {\"line\": {\"color\": \"#E5ECF6\", \"width\": 0.5}}, \"type\": \"bar\"}], \"barpolar\": [{\"marker\": {\"line\": {\"color\": \"#E5ECF6\", \"width\": 0.5}}, \"type\": \"barpolar\"}], \"carpet\": [{\"aaxis\": {\"endlinecolor\": \"#2a3f5f\", \"gridcolor\": \"white\", \"linecolor\": \"white\", \"minorgridcolor\": \"white\", \"startlinecolor\": \"#2a3f5f\"}, \"baxis\": {\"endlinecolor\": \"#2a3f5f\", \"gridcolor\": \"white\", \"linecolor\": \"white\", \"minorgridcolor\": \"white\", \"startlinecolor\": \"#2a3f5f\"}, \"type\": \"carpet\"}], \"choropleth\": [{\"colorbar\": {\"outlinewidth\": 0, \"ticks\": \"\"}, \"type\": \"choropleth\"}], \"contour\": [{\"colorbar\": {\"outlinewidth\": 0, \"ticks\": \"\"}, \"colorscale\": [[0.0, \"#0d0887\"], [0.1111111111111111, \"#46039f\"], [0.2222222222222222, \"#7201a8\"], [0.3333333333333333, \"#9c179e\"], [0.4444444444444444, \"#bd3786\"], [0.5555555555555556, \"#d8576b\"], [0.6666666666666666, \"#ed7953\"], [0.7777777777777778, \"#fb9f3a\"], [0.8888888888888888, \"#fdca26\"], [1.0, \"#f0f921\"]], \"type\": \"contour\"}], \"contourcarpet\": [{\"colorbar\": {\"outlinewidth\": 0, \"ticks\": \"\"}, \"type\": \"contourcarpet\"}], \"heatmap\": [{\"colorbar\": {\"outlinewidth\": 0, \"ticks\": \"\"}, \"colorscale\": [[0.0, \"#0d0887\"], [0.1111111111111111, \"#46039f\"], [0.2222222222222222, \"#7201a8\"], [0.3333333333333333, \"#9c179e\"], [0.4444444444444444, \"#bd3786\"], [0.5555555555555556, \"#d8576b\"], [0.6666666666666666, \"#ed7953\"], [0.7777777777777778, \"#fb9f3a\"], [0.8888888888888888, \"#fdca26\"], [1.0, \"#f0f921\"]], \"type\": \"heatmap\"}], \"heatmapgl\": [{\"colorbar\": {\"outlinewidth\": 0, \"ticks\": \"\"}, \"colorscale\": [[0.0, \"#0d0887\"], [0.1111111111111111, \"#46039f\"], [0.2222222222222222, \"#7201a8\"], [0.3333333333333333, \"#9c179e\"], [0.4444444444444444, \"#bd3786\"], [0.5555555555555556, \"#d8576b\"], [0.6666666666666666, \"#ed7953\"], [0.7777777777777778, \"#fb9f3a\"], [0.8888888888888888, \"#fdca26\"], [1.0, \"#f0f921\"]], \"type\": \"heatmapgl\"}], \"histogram\": [{\"marker\": {\"colorbar\": {\"outlinewidth\": 0, \"ticks\": \"\"}}, \"type\": \"histogram\"}], \"histogram2d\": [{\"colorbar\": {\"outlinewidth\": 0, \"ticks\": \"\"}, \"colorscale\": [[0.0, \"#0d0887\"], [0.1111111111111111, \"#46039f\"], [0.2222222222222222, \"#7201a8\"], [0.3333333333333333, \"#9c179e\"], [0.4444444444444444, \"#bd3786\"], [0.5555555555555556, \"#d8576b\"], [0.6666666666666666, \"#ed7953\"], [0.7777777777777778, \"#fb9f3a\"], [0.8888888888888888, \"#fdca26\"], [1.0, \"#f0f921\"]], \"type\": \"histogram2d\"}], \"histogram2dcontour\": [{\"colorbar\": {\"outlinewidth\": 0, \"ticks\": \"\"}, \"colorscale\": [[0.0, \"#0d0887\"], [0.1111111111111111, \"#46039f\"], [0.2222222222222222, \"#7201a8\"], [0.3333333333333333, \"#9c179e\"], [0.4444444444444444, \"#bd3786\"], [0.5555555555555556, \"#d8576b\"], [0.6666666666666666, \"#ed7953\"], [0.7777777777777778, \"#fb9f3a\"], [0.8888888888888888, \"#fdca26\"], [1.0, \"#f0f921\"]], \"type\": \"histogram2dcontour\"}], \"mesh3d\": [{\"colorbar\": {\"outlinewidth\": 0, \"ticks\": \"\"}, \"type\": \"mesh3d\"}], \"parcoords\": [{\"line\": {\"colorbar\": {\"outlinewidth\": 0, \"ticks\": \"\"}}, \"type\": \"parcoords\"}], \"pie\": [{\"automargin\": true, \"type\": \"pie\"}], \"scatter\": [{\"marker\": {\"colorbar\": {\"outlinewidth\": 0, \"ticks\": \"\"}}, \"type\": \"scatter\"}], \"scatter3d\": [{\"line\": {\"colorbar\": {\"outlinewidth\": 0, \"ticks\": \"\"}}, \"marker\": {\"colorbar\": {\"outlinewidth\": 0, \"ticks\": \"\"}}, \"type\": \"scatter3d\"}], \"scattercarpet\": [{\"marker\": {\"colorbar\": {\"outlinewidth\": 0, \"ticks\": \"\"}}, \"type\": \"scattercarpet\"}], \"scattergeo\": [{\"marker\": {\"colorbar\": {\"outlinewidth\": 0, \"ticks\": \"\"}}, \"type\": \"scattergeo\"}], \"scattergl\": [{\"marker\": {\"colorbar\": {\"outlinewidth\": 0, \"ticks\": \"\"}}, \"type\": \"scattergl\"}], \"scattermapbox\": [{\"marker\": {\"colorbar\": {\"outlinewidth\": 0, \"ticks\": \"\"}}, \"type\": \"scattermapbox\"}], \"scatterpolar\": [{\"marker\": {\"colorbar\": {\"outlinewidth\": 0, \"ticks\": \"\"}}, \"type\": \"scatterpolar\"}], \"scatterpolargl\": [{\"marker\": {\"colorbar\": {\"outlinewidth\": 0, \"ticks\": \"\"}}, \"type\": \"scatterpolargl\"}], \"scatterternary\": [{\"marker\": {\"colorbar\": {\"outlinewidth\": 0, \"ticks\": \"\"}}, \"type\": \"scatterternary\"}], \"surface\": [{\"colorbar\": {\"outlinewidth\": 0, \"ticks\": \"\"}, \"colorscale\": [[0.0, \"#0d0887\"], [0.1111111111111111, \"#46039f\"], [0.2222222222222222, \"#7201a8\"], [0.3333333333333333, \"#9c179e\"], [0.4444444444444444, \"#bd3786\"], [0.5555555555555556, \"#d8576b\"], [0.6666666666666666, \"#ed7953\"], [0.7777777777777778, \"#fb9f3a\"], [0.8888888888888888, \"#fdca26\"], [1.0, \"#f0f921\"]], \"type\": \"surface\"}], \"table\": [{\"cells\": {\"fill\": {\"color\": \"#EBF0F8\"}, \"line\": {\"color\": \"white\"}}, \"header\": {\"fill\": {\"color\": \"#C8D4E3\"}, \"line\": {\"color\": \"white\"}}, \"type\": \"table\"}]}, \"layout\": {\"annotationdefaults\": {\"arrowcolor\": \"#2a3f5f\", \"arrowhead\": 0, \"arrowwidth\": 1}, \"coloraxis\": {\"colorbar\": {\"outlinewidth\": 0, \"ticks\": \"\"}}, \"colorscale\": {\"diverging\": [[0, \"#8e0152\"], [0.1, \"#c51b7d\"], [0.2, \"#de77ae\"], [0.3, \"#f1b6da\"], [0.4, \"#fde0ef\"], [0.5, \"#f7f7f7\"], [0.6, \"#e6f5d0\"], [0.7, \"#b8e186\"], [0.8, \"#7fbc41\"], [0.9, \"#4d9221\"], [1, \"#276419\"]], \"sequential\": [[0.0, \"#0d0887\"], [0.1111111111111111, \"#46039f\"], [0.2222222222222222, \"#7201a8\"], [0.3333333333333333, \"#9c179e\"], [0.4444444444444444, \"#bd3786\"], [0.5555555555555556, \"#d8576b\"], [0.6666666666666666, \"#ed7953\"], [0.7777777777777778, \"#fb9f3a\"], [0.8888888888888888, \"#fdca26\"], [1.0, \"#f0f921\"]], \"sequentialminus\": [[0.0, \"#0d0887\"], [0.1111111111111111, \"#46039f\"], [0.2222222222222222, \"#7201a8\"], [0.3333333333333333, \"#9c179e\"], [0.4444444444444444, \"#bd3786\"], [0.5555555555555556, \"#d8576b\"], [0.6666666666666666, \"#ed7953\"], [0.7777777777777778, \"#fb9f3a\"], [0.8888888888888888, \"#fdca26\"], [1.0, \"#f0f921\"]]}, \"colorway\": [\"#636efa\", \"#EF553B\", \"#00cc96\", \"#ab63fa\", \"#FFA15A\", \"#19d3f3\", \"#FF6692\", \"#B6E880\", \"#FF97FF\", \"#FECB52\"], \"font\": {\"color\": \"#2a3f5f\"}, \"geo\": {\"bgcolor\": \"white\", \"lakecolor\": \"white\", \"landcolor\": \"#E5ECF6\", \"showlakes\": true, \"showland\": true, \"subunitcolor\": \"white\"}, \"hoverlabel\": {\"align\": \"left\"}, \"hovermode\": \"closest\", \"mapbox\": {\"style\": \"light\"}, \"paper_bgcolor\": \"white\", \"plot_bgcolor\": \"#E5ECF6\", \"polar\": {\"angularaxis\": {\"gridcolor\": \"white\", \"linecolor\": \"white\", \"ticks\": \"\"}, \"bgcolor\": \"#E5ECF6\", \"radialaxis\": {\"gridcolor\": \"white\", \"linecolor\": \"white\", \"ticks\": \"\"}}, \"scene\": {\"xaxis\": {\"backgroundcolor\": \"#E5ECF6\", \"gridcolor\": \"white\", \"gridwidth\": 2, \"linecolor\": \"white\", \"showbackground\": true, \"ticks\": \"\", \"zerolinecolor\": \"white\"}, \"yaxis\": {\"backgroundcolor\": \"#E5ECF6\", \"gridcolor\": \"white\", \"gridwidth\": 2, \"linecolor\": \"white\", \"showbackground\": true, \"ticks\": \"\", \"zerolinecolor\": \"white\"}, \"zaxis\": {\"backgroundcolor\": \"#E5ECF6\", \"gridcolor\": \"white\", \"gridwidth\": 2, \"linecolor\": \"white\", \"showbackground\": true, \"ticks\": \"\", \"zerolinecolor\": \"white\"}}, \"shapedefaults\": {\"line\": {\"color\": \"#2a3f5f\"}}, \"ternary\": {\"aaxis\": {\"gridcolor\": \"white\", \"linecolor\": \"white\", \"ticks\": \"\"}, \"baxis\": {\"gridcolor\": \"white\", \"linecolor\": \"white\", \"ticks\": \"\"}, \"bgcolor\": \"#E5ECF6\", \"caxis\": {\"gridcolor\": \"white\", \"linecolor\": \"white\", \"ticks\": \"\"}}, \"title\": {\"x\": 0.05}, \"xaxis\": {\"automargin\": true, \"gridcolor\": \"white\", \"linecolor\": \"white\", \"ticks\": \"\", \"title\": {\"standoff\": 15}, \"zerolinecolor\": \"white\", \"zerolinewidth\": 2}, \"yaxis\": {\"automargin\": true, \"gridcolor\": \"white\", \"linecolor\": \"white\", \"ticks\": \"\", \"title\": {\"standoff\": 15}, \"zerolinecolor\": \"white\", \"zerolinewidth\": 2}}}, \"title\": {\"text\": \"Proportions of suicides that are Male & Female, by Country\"}},\n",
       "                        {\"responsive\": true}\n",
       "                    ).then(function(){\n",
       "                            \n",
       "var gd = document.getElementById('54d79be5-d816-480c-a8fd-6e0520ae08f4');\n",
       "var x = new MutationObserver(function (mutations, observer) {{\n",
       "        var display = window.getComputedStyle(gd).display;\n",
       "        if (!display || display === 'none') {{\n",
       "            console.log([gd, 'removed!']);\n",
       "            Plotly.purge(gd);\n",
       "            observer.disconnect();\n",
       "        }}\n",
       "}});\n",
       "\n",
       "// Listen for the removal of the full notebook cells\n",
       "var notebookContainer = gd.closest('#notebook-container');\n",
       "if (notebookContainer) {{\n",
       "    x.observe(notebookContainer, {childList: true});\n",
       "}}\n",
       "\n",
       "// Listen for the clearing of the current output cell\n",
       "var outputEl = gd.closest('.output');\n",
       "if (outputEl) {{\n",
       "    x.observe(outputEl, {childList: true});\n",
       "}}\n",
       "\n",
       "                        })\n",
       "                };\n",
       "                });\n",
       "            </script>\n",
       "        </div>"
      ]
     },
     "metadata": {},
     "output_type": "display_data"
    }
   ],
   "source": [
    "# Sum up the total suicides / 100k pop for both male and female\n",
    "df1 = raw_data.groupby('country').sum()\n",
    "df1 = df1.sort_values('country')\n",
    "list1 = list(df1['suicides/100k pop'])\n",
    "\n",
    "# Find countries from raw_data\n",
    "list2 = raw_data['country'].unique()\n",
    "\n",
    "# Create male dataset and find sum of total suicides / 100k pop\n",
    "df_male = raw_data[raw_data['sex'] == 'male']\n",
    "df_male = df_male.groupby('country').sum()\n",
    "df_male = df_male.sort_values('country')\n",
    "df_male['total suicides'] = list1\n",
    "df_male['percentage'] = df_male['suicides/100k pop'] / df_male['total suicides']\n",
    "df_male['sex'] = 'male'\n",
    "df_male['country1'] = list2\n",
    "\n",
    "# Create female dataset and find sum of total suicides / 100k pop\n",
    "df_female = raw_data[raw_data['sex'] == 'female']\n",
    "df_female = df_female.groupby('country').sum()\n",
    "df_female = df_female.sort_values('country')\n",
    "df_female['total suicides'] = list1\n",
    "df_female['percentage'] = df_female['suicides/100k pop'] / df_female['total suicides']\n",
    "df_female['sex'] = 'female'\n",
    "df_female['country1'] = list2\n",
    "\n",
    "# Put the dataset together\n",
    "df_sex = df_male.append(df_female)\n",
    "df_sex = df_sex.sort_values('country')\n",
    "df_sex['percentage'] = df_sex['percentage'] * 100\n",
    "\n",
    "# Plot plotly chart showing the suicides by country based on gender\n",
    "import pandas as pd\n",
    "import plotly.offline as pyo\n",
    "import plotly.graph_objs as go\n",
    "\n",
    "trace1 = go.Bar(x = list(df_sex[df_sex['sex'] == 'male']['country1']),y = list(df_sex[df_sex['sex'] == 'male']['percentage']), \n",
    "                name = 'Male',marker = {'color':'#CD7F32'})\n",
    "trace2 = go.Bar(x = list(df_sex[df_sex['sex'] == 'female']['country1']), y = list(df_sex[df_sex['sex'] == 'female']['percentage']), \n",
    "                name = 'Female',marker = {'color':'#9EA0A1'})\n",
    "data = [trace1,trace2]\n",
    "\n",
    "layout = go.Layout(title = 'Proportions of suicides that are Male & Female, by Country', barmode = 'stack')\n",
    "fig = go.Figure(data = data, layout = layout)\n",
    "iplot(fig)\n"
   ]
  },
  {
   "cell_type": "markdown",
   "metadata": {},
   "source": [
    "*Insights*\n",
    "\n",
    "- There is a universal overrepresentation of men throughout the countries in the dataset\n",
    "- This can be attributed to the gender paradox on suicidal behavior"
   ]
  },
  {
   "cell_type": "markdown",
   "metadata": {},
   "source": [
    "### 2.8) Age differences, by Continent"
   ]
  },
  {
   "cell_type": "code",
   "execution_count": 135,
   "metadata": {},
   "outputs": [
    {
     "data": {
      "text/plain": [
       "Text(0.5, 0, 'continent')"
      ]
     },
     "execution_count": 135,
     "metadata": {},
     "output_type": "execute_result"
    },
    {
     "data": {
      "image/png": "[encoded data removed]",
      "text/plain": [
       "<Figure size 576x432 with 1 Axes>"
      ]
     },
     "metadata": {
      "needs_background": "light"
     },
     "output_type": "display_data"
    }
   ],
   "source": [
    "plt.figure(figsize=(8,6))\n",
    "sns.barplot(data = raw_data.sort_values('age'), x = 'continent', y = 'suicides/100k pop', hue = 'age', ci = None)\n",
    "plt.legend(loc = 'upper right')\n",
    "plt.title('Age Disparity, by continent')\n",
    "plt.xlabel('continent')"
   ]
  },
  {
   "cell_type": "markdown",
   "metadata": {},
   "source": [
    "*Insights*\n",
    "\n",
    "- For the Americas, Asia and Europe, suicide rate increases with age\n",
    "- The highest suicide rate for each Europe, South America, Asia and North America occurs in the 75+ age group\n",
    "- The highest suicide rate for Oceania and Africa occurs in the 15-24 and 35-54 age groups respectively\n"
   ]
  },
  {
   "cell_type": "markdown",
   "metadata": {},
   "source": [
    "### 2.9) Do richer countries have a higher rate of suicide?"
   ]
  },
  {
   "cell_type": "markdown",
   "metadata": {},
   "source": [
    "I have taken the mean GDP per capita of every country across all years of available data (1985 to 2015). This is then compared to the mean suicides / 100k pop for the period (1985 to 2015). "
   ]
  },
  {
   "cell_type": "code",
   "execution_count": 148,
   "metadata": {},
   "outputs": [
    {
     "data": {
      "text/plain": [
       "<matplotlib.axes._subplots.AxesSubplot at 0x285a715cc88>"
      ]
     },
     "execution_count": 148,
     "metadata": {},
     "output_type": "execute_result"
    },
    {
     "data": {
      "image/png": "[encoded data removed]",
      "text/plain": [
       "<Figure size 720x576 with 1 Axes>"
      ]
     },
     "metadata": {
      "needs_background": "light"
     },
     "output_type": "display_data"
    }
   ],
   "source": [
    "plt.figure(figsize=(10,8))\n",
    "sns.scatterplot(data = country_trend, x = 'gdp_per_capita ($)', y = 'suicides/100k pop', hue = 'continent' )"
   ]
  },
  {
   "cell_type": "code",
   "execution_count": 157,
   "metadata": {},
   "outputs": [
    {
     "data": {
      "text/plain": [
       "<seaborn.axisgrid.FacetGrid at 0x285a74a5d68>"
      ]
     },
     "execution_count": 157,
     "metadata": {},
     "output_type": "execute_result"
    },
    {
     "data": {
      "text/plain": [
       "<Figure size 720x576 with 0 Axes>"
      ]
     },
     "metadata": {},
     "output_type": "display_data"
    },
    {
     "data": {
      "image/png": "[encoded data removed]",
      "text/plain": [
       "<Figure size 360x360 with 1 Axes>"
      ]
     },
     "metadata": {
      "needs_background": "light"
     },
     "output_type": "display_data"
    }
   ],
   "source": [
    "plt.figure(figsize=(10,8))\n",
    "sns.lmplot(data = country_trend, x = 'gdp_per_capita ($)', y = 'suicides/100k pop')"
   ]
  },
  {
   "cell_type": "code",
   "execution_count": null,
   "metadata": {},
   "outputs": [],
   "source": [
    "x = country_trend[['gdp_per_capita ($)']]\n",
    "y = country_trend['suicides/100k pop']\n",
    "lm = LinearRegression()\n",
    "lm.fit(x,y)\n",
    "reg = lm.coef_\n",
    "print(lm.coef_)\n",
    "print(lm.intercept_)"
   ]
  },
  {
   "cell_type": "markdown",
   "metadata": {},
   "source": [
    "The line of best fit is represented by the equation below:\n",
    "\n",
    "   Suicides = 2.4*$10^{-5}$ * GDP + 12.10922\n",
    "   \n",
    "The trend line and the results of the linear plot above show that there is no significant relationship between gdp per capita and the suicides / 100k population"
   ]
  }
 ],
 "metadata": {
  "kernelspec": {
   "display_name": "Python 3",
   "language": "python",
   "name": "python3"
  },
  "language_info": {
   "codemirror_mode": {
    "name": "ipython",
    "version": 3
   },
   "file_extension": ".py",
   "mimetype": "text/x-python",
   "name": "python",
   "nbconvert_exporter": "python",
   "pygments_lexer": "ipython3",
   "version": "3.7.1"
  }
 },
 "nbformat": 4,
 "nbformat_minor": 4
}
